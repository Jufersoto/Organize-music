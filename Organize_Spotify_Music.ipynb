{
  "cells": [
    {
      "cell_type": "markdown",
      "metadata": {
        "id": "view-in-github",
        "colab_type": "text"
      },
      "source": [
        "<a href=\"https://colab.research.google.com/github/Jufersoto/Organize-music/blob/main/Organize_Spotify_Music.ipynb\" target=\"_parent\"><img src=\"https://colab.research.google.com/assets/colab-badge.svg\" alt=\"Open In Colab\"/></a>"
      ]
    },
    {
      "cell_type": "markdown",
      "metadata": {
        "id": "96O99mxlrWXH"
      },
      "source": [
        "# Instalar Librerias"
      ]
    },
    {
      "cell_type": "code",
      "execution_count": 1,
      "metadata": {
        "colab": {
          "base_uri": "https://localhost:8080/"
        },
        "id": "1qIdHwdrpmSA",
        "outputId": "c0a01888-2a7b-44c0-c729-e9e7ee8d85a2"
      },
      "outputs": [
        {
          "output_type": "stream",
          "name": "stdout",
          "text": [
            "Looking in indexes: https://pypi.org/simple, https://us-python.pkg.dev/colab-wheels/public/simple/\n",
            "Collecting spotipy\n",
            "  Downloading spotipy-2.23.0-py3-none-any.whl (29 kB)\n",
            "Collecting redis>=3.5.3 (from spotipy)\n",
            "  Downloading redis-4.5.5-py3-none-any.whl (240 kB)\n",
            "\u001b[2K     \u001b[90m━━━━━━━━━━━━━━━━━━━━━━━━━━━━━━━━━━━━━━━\u001b[0m \u001b[32m240.3/240.3 kB\u001b[0m \u001b[31m5.9 MB/s\u001b[0m eta \u001b[36m0:00:00\u001b[0m\n",
            "\u001b[?25hRequirement already satisfied: requests>=2.25.0 in /usr/local/lib/python3.10/dist-packages (from spotipy) (2.27.1)\n",
            "Requirement already satisfied: six>=1.15.0 in /usr/local/lib/python3.10/dist-packages (from spotipy) (1.16.0)\n",
            "Requirement already satisfied: urllib3>=1.26.0 in /usr/local/lib/python3.10/dist-packages (from spotipy) (1.26.15)\n",
            "Collecting async-timeout>=4.0.2 (from redis>=3.5.3->spotipy)\n",
            "  Downloading async_timeout-4.0.2-py3-none-any.whl (5.8 kB)\n",
            "Requirement already satisfied: certifi>=2017.4.17 in /usr/local/lib/python3.10/dist-packages (from requests>=2.25.0->spotipy) (2022.12.7)\n",
            "Requirement already satisfied: charset-normalizer~=2.0.0 in /usr/local/lib/python3.10/dist-packages (from requests>=2.25.0->spotipy) (2.0.12)\n",
            "Requirement already satisfied: idna<4,>=2.5 in /usr/local/lib/python3.10/dist-packages (from requests>=2.25.0->spotipy) (3.4)\n",
            "Installing collected packages: async-timeout, redis, spotipy\n",
            "Successfully installed async-timeout-4.0.2 redis-4.5.5 spotipy-2.23.0\n"
          ]
        }
      ],
      "source": [
        "!pip install spotipy"
      ]
    },
    {
      "cell_type": "code",
      "execution_count": 2,
      "metadata": {
        "id": "GdFxyZXLk5hI"
      },
      "outputs": [],
      "source": [
        "import spotipy\n",
        "import spotipy.util as util\n",
        "from spotipy.oauth2 import SpotifyClientCredentials\n",
        "from spotipy.oauth2 import SpotifyOAuth\n",
        "\n",
        "import pandas as pd\n",
        "import numpy as np\n",
        "\n",
        "from sklearn.model_selection import train_test_split\n",
        "from sklearn.preprocessing import StandardScaler\n",
        "from sklearn.datasets import make_blobs\n",
        "from sklearn.neural_network import MLPClassifier\n",
        "#from skfuzzy.cluster import cmeans\n",
        "\n",
        "from sklearn import metrics\n",
        "from sklearn.metrics import matthews_corrcoef\n",
        "from sklearn.metrics import accuracy_score\n",
        "from sklearn.metrics import f1_score\n",
        "from sklearn.metrics import classification_report\n",
        "\n",
        "import sklearn\n",
        "from sklearn.svm import SVC\n",
        "from sklearn.neighbors import KNeighborsClassifier\n",
        "from sklearn.linear_model import LogisticRegression\n",
        "from sklearn.ensemble import RandomForestClassifier, GradientBoostingClassifier\n",
        "from sklearn.linear_model import LogisticRegression\n",
        "from sklearn.model_selection import cross_val_score\n",
        "from sklearn.model_selection import GridSearchCV\n"
      ]
    },
    {
      "cell_type": "markdown",
      "metadata": {
        "id": "HzBB6uh1rgOk"
      },
      "source": [
        "# Sacar los datos de Spotify"
      ]
    },
    {
      "cell_type": "code",
      "execution_count": 3,
      "metadata": {
        "id": "6DpGym8pGAa6"
      },
      "outputs": [],
      "source": [
        "SPOTIFY_CLIENT_ID = \"632358ae06694582b4083ca4b161f74d\" \n",
        "SPOTIFY_CLIENT_SECRET = \"366ffad5ed834380ba6d56bc300882bb\" \n",
        "SPOTIFY_REDIRECT_URI = 'https://www.google.com/'\n",
        "SCOPE = \"playlist-modify-public playlist-read-private playlist-modify-private user-library-read\"\n",
        "username = 'jufersoto'\n",
        "#https://open.spotify.com/user/jufersoto?si=5689a19438b747f3"
      ]
    },
    {
      "cell_type": "code",
      "execution_count": 4,
      "metadata": {
        "colab": {
          "base_uri": "https://localhost:8080/"
        },
        "id": "FgaJTDYBqxtc",
        "outputId": "4295b602-f157-4685-9d05-df54d8fdd006"
      },
      "outputs": [
        {
          "output_type": "stream",
          "name": "stdout",
          "text": [
            "Authorization Sucessful!\n"
          ]
        }
      ],
      "source": [
        "sp = spotipy.Spotify(\n",
        "    auth_manager=spotipy.SpotifyOAuth(\n",
        "        client_id=SPOTIFY_CLIENT_ID,\n",
        "        client_secret=SPOTIFY_CLIENT_SECRET,\n",
        "        redirect_uri=SPOTIFY_REDIRECT_URI,\n",
        "        scope=SCOPE, open_browser=False),\n",
        "        requests_timeout=20, retries=10)\n",
        "print('Authorization Sucessful!')"
      ]
    },
    {
      "cell_type": "code",
      "execution_count": 5,
      "metadata": {
        "id": "dSBdw2u9KgQ5",
        "colab": {
          "base_uri": "https://localhost:8080/"
        },
        "outputId": "0401a25c-c447-4789-e26d-1599624894e2"
      },
      "outputs": [
        {
          "name": "stdout",
          "output_type": "stream",
          "text": [
            "Go to the following URL: https://accounts.spotify.com/authorize?client_id=632358ae06694582b4083ca4b161f74d&response_type=code&redirect_uri=https%3A%2F%2Fwww.google.com%2F&scope=playlist-modify-public+playlist-read-private+playlist-modify-private+user-library-read\n",
            "Enter the URL you were redirected to: https://www.google.com/?code=AQA_FTPcSDtDSqek6OlEycJSyQQdhVx4zURUbwgZAfs3O69th4HOaitzCOFvu7CCExoUYPW0N23nQszSCAur2fVMjuR9K71nyL6VjWyv6tRRuy-3_BMn1sftAnMnglTr4BwfM-I9XHArYpS19hHpfDNLMksTIIkplrpQ9DqyiTW7FKGe68TfYEe7rdnlcuG5rK-XxOd0z8GgdaWWWI7ntqcuba5Sqb5QvO6fIUrN3BmMGFBKVK1TEnqD1dsz4J9dLMxmN9OFxmV2mVwY6TKZUhIgMgmX1Q\n"
          ]
        }
      ],
      "source": [
        "playlists = sp.user_playlists(username)\n",
        "# Toma los datos, pero la primera vez ayuda con la autorizacion de usuario"
      ]
    },
    {
      "cell_type": "markdown",
      "metadata": {
        "id": "T_NDy_byrvI-"
      },
      "source": [
        "## Sacar los datos de las playlists y las características de las canciones directamente de Spotify"
      ]
    },
    {
      "cell_type": "code",
      "execution_count": 6,
      "metadata": {
        "id": "KfPHd4PD_pml"
      },
      "outputs": [],
      "source": [
        "# Datos de las playlists\n",
        "playlists = pd.DataFrame.from_dict(playlists)\n",
        "items = list(playlists['items'])\n",
        "items = pd.DataFrame(items)\n",
        "nombres = []\n",
        "index = []\n",
        "#objetivos = ['Hablan rapido', 'Uh lala señor francés', 'Top cross', 'Pa las caderas y el corazón', 'Tangos y boleros', 'Cumbiones', 'Iluminación', 'Canciones en ingles que me depriman o me duerman, lo que pase primero', 'Popsito', 'TimeTronica', 'A Andrés Cepeda le gusta esto', 'De guitarras y voces', 'Cowboy', 'Deep in Rain', 'Sun is shinning', 'Guapachoso']\n",
        "objetivos = ['Pa las caderas y el corazón', 'Tangos y boleros', 'Cumbiones', 'Iluminación', 'Canciones en ingles que me depriman o me duerman, lo que pase primero', 'Popsito', 'TimeTronica', 'A Andrés Cepeda le gusta esto', 'De guitarras y voces', 'Cowboy', 'Deep in Rain', 'Sun is shinning', 'Guapachoso']\n",
        "\n",
        "for i in range(len(items)):\n",
        "  if items['name'][i] in objetivos:\n",
        "    if i == playlists.index[i]:\n",
        "      nombres.append(items['name'][i])\n",
        "      index.append(i)\n",
        "      #print(str(i)+\", \"+items['name'][i])\n",
        "\n",
        "playlists_n = playlists.drop([i for i in range(len(playlists)) if i not in index])\n",
        "playlists_n['name'] = nombres\n",
        "Plts_ID = items['id']\n",
        "\n",
        "#print(playlists_n.columns)\n",
        "\n"
      ]
    },
    {
      "cell_type": "code",
      "execution_count": 7,
      "metadata": {
        "id": "WerClYHA_1qT"
      },
      "outputs": [],
      "source": [
        "# Datos de las canciones\n",
        "track_list = [[],[],[],[]]\n",
        "for i in range(len(nombres)):\n",
        "  tracks = sp.playlist_tracks(Plts_ID[index[i]], offset=0, fields='items.track', additional_types=['track'])\n",
        "  tracks = tracks['items']\n",
        "  for j in range(len(tracks)):\n",
        "    track_list[0].append(tracks[j]['track']['id'])\n",
        "    track_list[1].append(nombres[i])\n",
        "    track_list[2].append(tracks[j]['track']['name'])\n",
        "    track_list[3].append(tracks[j]['track']['artists'][0]['name'])\n",
        "\n",
        "track_df = pd.DataFrame({'track_id': track_list[0], 'playlist_name': track_list[1], 'track_name': track_list[2], 'artist':track_list[3]})\n",
        "\n",
        "features_list = []\n",
        "\n",
        "for k in range(len(track_list[0])):\n",
        "  features = sp.audio_features(track_list[0][k])\n",
        "  features_list.append(features[0])\n",
        "  \n"
      ]
    },
    {
      "cell_type": "code",
      "execution_count": 8,
      "metadata": {
        "id": "dDFfNfXyUUaf"
      },
      "outputs": [],
      "source": [
        "# Limpieza previa de las listas y mandarlo a un csv\n",
        "filtered_list = []\n",
        "Fila_e = []\n",
        "iteracion = 0\n",
        "for x in features_list:\n",
        "  iteracion = iteracion + 1\n",
        "  if x is not None:\n",
        "    filtered_list.append(x)\n",
        "  else:\n",
        "    Fila_e.append(iteracion)\n",
        "\n",
        "features_df = pd.DataFrame(filtered_list)\n",
        "df_concat = pd.concat([track_df, features_df], axis=1)\n",
        "\n",
        "Datos = df_concat.drop(['type', 'id', 'uri', 'track_href', 'analysis_url', 'time_signature'], axis=1)\n",
        "Datos.to_csv('Mis_canciones.csv')\n",
        " "
      ]
    },
    {
      "cell_type": "markdown",
      "metadata": {
        "id": "V-Qi5_o2XZcW"
      },
      "source": [
        "## Sacar las canciones que me gustan"
      ]
    },
    {
      "cell_type": "code",
      "execution_count": 9,
      "metadata": {
        "id": "AVz1pCxDXwVw"
      },
      "outputs": [],
      "source": [
        "# Saber mis canciones\n",
        "datos_totales = []\n",
        "fav_list = []\n",
        "offset_actual = 0\n",
        "nomb_canciones = []\n",
        "nomb_artistas = []\n",
        "while len(datos_totales) < 5000:\n",
        "  Favorites = sp.current_user_saved_tracks(limit=50, offset=offset_actual)\n",
        "  \n",
        "  Favorites = Favorites['items']\n",
        "  Favorites = pd.DataFrame(Favorites)\n",
        "  if len(Favorites)==0:\n",
        "    break\n",
        "  Favorites = Favorites['track'].values\n",
        "  Fav_id = [d['id'] for d in Favorites]\n",
        "  Fav_name = [d['name'] for d in Favorites]\n",
        "  Fav_Art = [d['artists'][0]['name'] for d in Favorites]\n",
        "  nuevos_datos = Fav_id\n",
        "  \n",
        "  datos_totales += Fav_id\n",
        "  nomb_canciones += Fav_name\n",
        "  nomb_artistas += Fav_Art\n",
        "  offset_actual += len(nuevos_datos)\n",
        "  for t in range(len(Fav_id)):\n",
        "    features = sp.audio_features(Fav_id[t])\n",
        "    fav_list.append(features[0])\n",
        "\n",
        "Total_nomb = pd.DataFrame(nomb_canciones, columns=['track_name'])\n",
        "Total_art = pd.DataFrame(nomb_artistas, columns=['artist'])\n",
        "Total_id = pd.DataFrame(datos_totales, columns=['track_id'])\n",
        "Todas = pd.DataFrame(fav_list)\n",
        "#7AoROkMQpKuUsJuNzmBykU"
      ]
    },
    {
      "cell_type": "code",
      "execution_count": 10,
      "metadata": {
        "id": "FMJOuINgSsFP"
      },
      "outputs": [],
      "source": [
        "\n",
        "df_junto = pd.concat([Total_id, Total_nomb, Total_art, Todas], axis=1)\n",
        "\n",
        "df_junto = df_junto.drop(['type', 'id', 'uri', 'track_href', 'analysis_url', 'time_signature'], axis=1)\n",
        "df_junto.to_csv('Todas_mis_canciones.csv')\n"
      ]
    },
    {
      "cell_type": "markdown",
      "metadata": {
        "id": "uFec8lj8sOAZ"
      },
      "source": [
        "# Revisión mejor modelo\n",
        "\n"
      ]
    },
    {
      "cell_type": "code",
      "execution_count": 18,
      "metadata": {
        "id": "f7_K9B1elrSi"
      },
      "outputs": [],
      "source": [
        "#Canciones = Datos\n",
        "Canciones = pd.read_csv('Mis_canciones.csv')\n",
        "Canciones = Canciones.dropna()\n",
        "nombres = Canciones['track_name']\n",
        "\n",
        "# Selección de características y etiquetas\n",
        "X = Canciones[['danceability', 'energy', 'key', 'loudness', 'mode', 'speechiness', 'acousticness', 'instrumentalness', 'liveness', 'valence', 'tempo', 'duration_ms']]\n",
        "y = Canciones['playlist_name']\n",
        "\n",
        "# División de train y test y escalamiento\n",
        "X_train, X_test, y_train, y_test = train_test_split(X, y, random_state=46,test_size=0.3, stratify=y)\n",
        "scaler = StandardScaler()\n",
        "scaler.fit(X_train)\n",
        "X_train = scaler.transform(X_train)\n",
        "X_test = scaler.transform(X_test)\n",
        "X = scaler.transform(X)\n",
        "\n"
      ]
    },
    {
      "cell_type": "markdown",
      "metadata": {
        "id": "DV_iBEWJTPFi"
      },
      "source": [
        "## Iteraciones de todos los modelos"
      ]
    },
    {
      "cell_type": "code",
      "execution_count": null,
      "metadata": {
        "id": "vtoYXzNdePu3"
      },
      "outputs": [],
      "source": [
        "# Matriz de las iteraciones \n",
        "models = [[SVC(), RandomForestClassifier(), LogisticRegression(),KNeighborsClassifier(),MLPClassifier(max_iter=1000)],[],\n",
        "          [\"Máquina de Soporte Vectorial\", \"Random Forest\", \"Regresión Logística\", \"KNN\", \"Redes Neuronales\"]]\n",
        "\n",
        "models[1].append([{'kernel': ['rbf'], 'C': [0.1, 1, 10], 'gamma': [0.001, 0.01, 0.1]},\n",
        "                  {'kernel': ['poly'], 'C': [0.1, 1, 10], 'degree': [2, 3], 'coef0':[0, 1]}])\n",
        "models[1].append({'n_estimators': [10, 100, 1000], 'max_depth': [2, 5, 10],\n",
        "                  'min_samples_split': [2, 5, 10], 'min_samples_leaf': [1, 2, 4]})\n",
        "models[1].append({'C': [0.1, 1, 10], 'penalty': ['l1', 'l2']})\n",
        "models[1].append({'n_neighbors': [3, 5, 7], 'weights': ['uniform', 'distance'], 'p': [1, 2, 3]})\n",
        "models[1].append({'hidden_layer_sizes': [(50,), (100,), (50, 50), (100, 100)], 'activation': ['tanh', 'relu'], \n",
        "                  'solver': ['sgd', 'adam'], 'alpha': [0.01], 'learning_rate': ['adaptive']})\n",
        "\n",
        "# Predicciones y los scores de cross-validación\n",
        "y_pred = []\n",
        "cv_scores = []\n",
        "mejores_params = []\n",
        "for cont in range(5):\n",
        "  clf = GridSearchCV(models[0][cont], \n",
        "    param_grid=models[1][cont], \n",
        "    cv=5, \n",
        "    scoring='f1_macro')\n",
        "\n",
        "  clf.fit(X_train, y_train)\n",
        "  y_pred.append(clf.predict(X_test))\n",
        "\n",
        "  cv_scores.append(cross_val_score(models[0][cont], X_train, y_train, cv=5, scoring='f1_macro'))\n",
        "  mejores_params.append(clf.best_params_)\n"
      ]
    },
    {
      "cell_type": "code",
      "execution_count": 13,
      "metadata": {
        "id": "mneJa02p1CCl",
        "colab": {
          "base_uri": "https://localhost:8080/"
        },
        "outputId": "9cad3e87-a326-49e2-a903-61e33108d74a"
      },
      "outputs": [
        {
          "output_type": "stream",
          "name": "stdout",
          "text": [
            "Mejor modelo: Regresión Logística\n",
            "Score de cross-validación del mejor modelo: 0.2201670800179248\n",
            "Mejores parametros: {'C': 1, 'penalty': 'l2'}\n",
            "Reporte de puntajes:\n",
            "                                                                       precision    recall  f1-score   support\n",
            "\n",
            "                                        A Andrés Cepeda le gusta esto       0.07      0.03      0.05        30\n",
            "Canciones en ingles que me depriman o me duerman, lo que pase primero       0.27      0.30      0.29        23\n",
            "                                                               Cowboy       0.26      0.20      0.23        30\n",
            "                                                            Cumbiones       0.03      0.03      0.03        30\n",
            "                                                 De guitarras y voces       0.16      0.17      0.16        30\n",
            "                                                         Deep in Rain       0.21      0.14      0.17        29\n",
            "                                                           Guapachoso       0.27      0.43      0.33        30\n",
            "                                                          Iluminación       0.30      0.27      0.28        30\n",
            "                                          Pa las caderas y el corazón       0.29      0.29      0.29        14\n",
            "                                                              Popsito       0.10      0.10      0.10        30\n",
            "                                                      Sun is shinning       0.17      0.25      0.21        28\n",
            "                                                     Tangos y boleros       0.31      0.41      0.35        22\n",
            "                                                          TimeTronica       0.19      0.15      0.17        26\n",
            "\n",
            "                                                             accuracy                           0.20       352\n",
            "                                                            macro avg       0.20      0.21      0.20       352\n",
            "                                                         weighted avg       0.20      0.20      0.20       352\n",
            "\n"
          ]
        }
      ],
      "source": [
        "avg_scores = [np.mean(scores) for scores in cv_scores]\n",
        "\n",
        "index1 = np.argmax(avg_scores)\n",
        "best_Cross_model = models[2][index1]\n",
        "best_Cross_score = avg_scores[index1]\n",
        "best_p1 = mejores_params[index1]\n",
        "\n",
        "print(\"Mejor modelo:\", best_Cross_model)\n",
        "print(\"Score de cross-validación del mejor modelo:\", best_Cross_score)\n",
        "print(\"Mejores parametros:\", best_p1)\n",
        "print(\"Reporte de puntajes:\")\n",
        "print(classification_report(y_test, y_pred[index1], zero_division=1))"
      ]
    },
    {
      "cell_type": "markdown",
      "metadata": {
        "id": "EzBIsm-vVfFv"
      },
      "source": [
        "# Implementando los mejores modelos"
      ]
    },
    {
      "cell_type": "code",
      "execution_count": 19,
      "metadata": {
        "id": "OiyvgtudsRlB"
      },
      "outputs": [],
      "source": [
        "if best_Cross_model == \"Máquina de Soporte Vectorial\":\n",
        "  modelo = SVC(**best_p1)\n",
        "elif best_Cross_model == \"Random Forest\":\n",
        "  modelo = RandomForestClassifier(**best_p1)\n",
        "elif best_Cross_model == \"Regresión Logística\":\n",
        "  modelo = LogisticRegression(**best_p1)\n",
        "elif best_Cross_model == \"KNN\":\n",
        "  modelo = KNeighborsClassifier(**best_p1)\n",
        "elif best_Cross_model == \"Redes Neuronales\":\n",
        "  modelo = MLPClassifier(**best_p1,max_iter=100)\n",
        "\n",
        "modelo.fit(X, y)\n",
        "y_prob = modelo.predict_proba(X_test)"
      ]
    },
    {
      "cell_type": "markdown",
      "source": [
        "# Encontrar la afinidad"
      ],
      "metadata": {
        "id": "NtiGBV4Btebj"
      }
    },
    {
      "cell_type": "code",
      "execution_count": 25,
      "metadata": {
        "id": "_idU2Y3txewv",
        "colab": {
          "base_uri": "https://localhost:8080/"
        },
        "outputId": "d506bf7a-31f5-4775-9f00-001bb3ccc6fe"
      },
      "outputs": [
        {
          "output_type": "stream",
          "name": "stdout",
          "text": [
            "F1-score: 0.0625\n"
          ]
        }
      ],
      "source": [
        "umbral = 0.6\n",
        "\n",
        "top_labels = np.argsort(y_prob, axis=1)[:, ::-1] \n",
        "top_prob = np.sort(y_prob, axis=1)[:, ::-1]\n",
        "\n",
        "# Suma acumulativa por  casilla, el ultimo debe dar 1.\n",
        "sum = np.cumsum(top_prob, axis=1) \n",
        "\n",
        "filt_labels=[]\n",
        "filt_prob=[]\n",
        "for i in range(top_labels.shape[0]):\n",
        "  max_labels = 0\n",
        "  row = sum[i]\n",
        "  #Encuentra el ultimo valor en donde false cambia a true, y el +1 dice cual es ese primer valor de true\n",
        "  num_labels = np.argmax(row >= umbral) + 1 \n",
        "\n",
        "  if num_labels > max_labels:\n",
        "    max_labels = num_labels\n",
        "    \n",
        "  # Ubica tanto el la etiqueta, como las probabilidades de esa etiqueta\n",
        "  filt_labels.append(top_labels[i, :max_labels])\n",
        "  filt_prob.append(top_prob[:, :max_labels])\n",
        "\n",
        "top_labels = []\n",
        "for row in filt_labels:\n",
        "  row_labels = [objetivos[i] for i in row]\n",
        "  top_labels.append(row_labels)\n",
        "\n",
        "# Calcular las predicciones y el f1-score\n",
        "y_pred = [labels[0] if labels else None for labels in top_labels]\n",
        "f1 = f1_score(y_test, y_pred, average='micro')\n",
        "print(\"F1-score:\",f1)"
      ]
    },
    {
      "cell_type": "code",
      "execution_count": 27,
      "metadata": {
        "id": "VfzizOcIOMy9",
        "colab": {
          "base_uri": "https://localhost:8080/"
        },
        "outputId": "5562dd6d-7320-4df3-fcc4-1eced8f95c08"
      },
      "outputs": [
        {
          "output_type": "stream",
          "name": "stdout",
          "text": [
            "Lista del resultado de las canciones:\n",
            "                    track_id  \\\n",
            "0     1x0NfY1A4q8eKN3k4X8sfE   \n",
            "1     2fFdjMCVUnIBU1jiKLBIKH   \n",
            "2     0Y0fjDVP3AdvODBG0jOIht   \n",
            "3     43hSlJcM3EZeocev7yCNKX   \n",
            "4     6ieBQJtGAvfimYm5z8MUDS   \n",
            "...                      ...   \n",
            "3895  0dEIca2nhcxDUV8C5QkPYb   \n",
            "3896  5YNFRKdTj5JG18ZWNDPDnD   \n",
            "3897  1CmUZGtH29Kx36C1Hleqlz   \n",
            "3898  2Foc5Q5nqNiosCNqttzHof   \n",
            "3899  0nJW01T7XtvILxQgC5J7Wh   \n",
            "\n",
            "                                             track_name  \\\n",
            "0                                             Under You   \n",
            "1                                       Worth Dying For   \n",
            "2                                        A la Madrugada   \n",
            "3                                        Pa Poderte Ver   \n",
            "4                                                  Mala   \n",
            "...                                                 ...   \n",
            "3895                            Give Life Back to Music   \n",
            "3896                                             Royals   \n",
            "3897                           Thrift Shop (feat. Wanz)   \n",
            "3898  Get Lucky (Radio Edit) [feat. Pharrell William...   \n",
            "3899                                When I Was Your Man   \n",
            "\n",
            "                       artist  \\\n",
            "0                Foo Fighters   \n",
            "1                Rise Against   \n",
            "2             Simon Grossmann   \n",
            "3                       Maréh   \n",
            "4                 La Garfield   \n",
            "...                       ...   \n",
            "3895                Daft Punk   \n",
            "3896                    Lorde   \n",
            "3897  Macklemore & Ryan Lewis   \n",
            "3898                Daft Punk   \n",
            "3899               Bruno Mars   \n",
            "\n",
            "                                              Playlist1  \\\n",
            "0     Canciones en ingles que me depriman o me duerm...   \n",
            "1     Canciones en ingles que me depriman o me duerm...   \n",
            "2                                           TimeTronica   \n",
            "3                         A Andrés Cepeda le gusta esto   \n",
            "4                                                Cowboy   \n",
            "...                                                 ...   \n",
            "3895                                         Guapachoso   \n",
            "3896                                             Cowboy   \n",
            "3897                                         Guapachoso   \n",
            "3898                                       Deep in Rain   \n",
            "3899                                            Popsito   \n",
            "\n",
            "                                              Playlist2  \\\n",
            "0                                      Tangos y boleros   \n",
            "1                                                  None   \n",
            "2                                          Deep in Rain   \n",
            "3                           Pa las caderas y el corazón   \n",
            "4                                      Tangos y boleros   \n",
            "...                                                 ...   \n",
            "3895                                          Cumbiones   \n",
            "3896  Canciones en ingles que me depriman o me duerm...   \n",
            "3897                               De guitarras y voces   \n",
            "3898                                         Guapachoso   \n",
            "3899                                    Sun is shinning   \n",
            "\n",
            "                        Playlist3                      Playlist4  \\\n",
            "0                            None                           None   \n",
            "1                            None                           None   \n",
            "2                     Iluminación  A Andrés Cepeda le gusta esto   \n",
            "3                          Cowboy                        Popsito   \n",
            "4                         Popsito                           None   \n",
            "...                           ...                            ...   \n",
            "3895                         None                           None   \n",
            "3896  Pa las caderas y el corazón               Tangos y boleros   \n",
            "3897                       Cowboy                           None   \n",
            "3898                  Iluminación    Pa las caderas y el corazón   \n",
            "3899                    Cumbiones                           None   \n",
            "\n",
            "                          Playlist5 Playlist6 Playlist7  probabilidad de Pl1  \\\n",
            "0                              None      None      None             0.547200   \n",
            "1                              None      None      None             0.665871   \n",
            "2                              None      None      None             0.225728   \n",
            "3                   Sun is shinning      None      None             0.190992   \n",
            "4                              None      None      None             0.274764   \n",
            "...                             ...       ...       ...                  ...   \n",
            "3895                           None      None      None             0.511334   \n",
            "3896                           None      None      None             0.302441   \n",
            "3897                           None      None      None             0.342486   \n",
            "3898  A Andrés Cepeda le gusta esto      None      None             0.178924   \n",
            "3899                           None      None      None             0.275845   \n",
            "\n",
            "      probabilidad de Pl2  probabilidad de Pl3  probabilidad de Pl4  \\\n",
            "0                0.261966                  NaN                  NaN   \n",
            "1                     NaN                  NaN                  NaN   \n",
            "2                0.188786             0.156474             0.069525   \n",
            "3                0.148946             0.135372             0.124261   \n",
            "4                0.188987             0.160346                  NaN   \n",
            "...                   ...                  ...                  ...   \n",
            "3895             0.198698                  NaN                  NaN   \n",
            "3896             0.182410             0.104704             0.091766   \n",
            "3897             0.200775             0.160392                  NaN   \n",
            "3898             0.148074             0.102786             0.099098   \n",
            "3899             0.185789             0.140218                  NaN   \n",
            "\n",
            "      probabilidad de Pl5  probabilidad de Pl6  probabilidad de Pl7  \n",
            "0                     NaN                  NaN                  NaN  \n",
            "1                     NaN                  NaN                  NaN  \n",
            "2                     NaN                  NaN                  NaN  \n",
            "3                0.099705                  NaN                  NaN  \n",
            "4                     NaN                  NaN                  NaN  \n",
            "...                   ...                  ...                  ...  \n",
            "3895                  NaN                  NaN                  NaN  \n",
            "3896                  NaN                  NaN                  NaN  \n",
            "3897                  NaN                  NaN                  NaN  \n",
            "3898             0.087074                  NaN                  NaN  \n",
            "3899                  NaN                  NaN                  NaN  \n",
            "\n",
            "[3900 rows x 17 columns]\n"
          ]
        }
      ],
      "source": [
        "Mis_Canciones = pd.read_csv('Todas_mis_canciones.csv')\n",
        "identificacion = Mis_Canciones[['track_id','track_name','artist']]\n",
        "# Selección de características y etiquetas\n",
        "Caracteristicas = Mis_Canciones[['danceability', 'energy', 'key', 'loudness', 'mode', 'speechiness', 'acousticness', 'instrumentalness', 'liveness', 'valence', 'tempo', 'duration_ms']]\n",
        "Caracteristicas = scaler.transform(Caracteristicas)\n",
        "y_caract = modelo.predict_proba(Caracteristicas)\n",
        "\n",
        "\n",
        "umbral = 0.6 # La suma de las playlists debe ser menor a 60%\n",
        "\n",
        "top_labels = np.argsort(y_caract, axis=1)[:, ::-1]\n",
        "top_prob = np.sort(y_caract, axis=1)[:, ::-1]\n",
        "\n",
        "sum = np.cumsum(top_prob, axis=1)\n",
        "filt_labels=[]\n",
        "filt_prob=[]\n",
        "for i in range(top_labels.shape[0]):\n",
        "  max_labels = 0\n",
        "  row = sum[i]\n",
        "  num_labels = np.argmax(row >= umbral) + 1\n",
        "\n",
        "  if num_labels > max_labels:\n",
        "    max_labels = num_labels\n",
        "  \n",
        "  filt_labels.append(top_labels[i, :max_labels])\n",
        "  filt_prob.append(top_prob[i, :max_labels])\n",
        "\n",
        "top_labels = []\n",
        "for row in filt_labels:\n",
        "  row_labels = [objetivos[i] for i in row]\n",
        "  top_labels.append(row_labels)\n",
        "\n",
        "# Organiza las canciones por su afinidad hacia las playlists\n",
        "df_labels = pd.DataFrame(top_labels)\n",
        "df_labels.columns = [f'Playlist{i+1}' for i in range(df_labels.shape[1])]\n",
        "df_prob = pd.DataFrame(filt_prob)\n",
        "df_prob.columns = [f'probabilidad de Pl{i+1}' for i in range(df_prob.shape[1])]\n",
        "df_listas = pd.concat([identificacion,df_labels, df_prob], axis=1)\n",
        "\n",
        "df_listas.to_csv('Canciones_organizadas.csv')\n",
        "print(\"Lista del resultado de las canciones:\")\n",
        "print(df_listas)\n",
        "\n"
      ]
    }
  ],
  "metadata": {
    "colab": {
      "collapsed_sections": [
        "E0rUqaCESYV4"
      ],
      "provenance": [],
      "authorship_tag": "ABX9TyNk2u2N5VxrbN+1SzotA55w",
      "include_colab_link": true
    },
    "kernelspec": {
      "display_name": "Python 3",
      "name": "python3"
    },
    "language_info": {
      "name": "python"
    }
  },
  "nbformat": 4,
  "nbformat_minor": 0
}