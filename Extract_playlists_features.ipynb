{
  "cells": [
    {
      "cell_type": "markdown",
      "metadata": {
        "id": "view-in-github",
        "colab_type": "text"
      },
      "source": [
        "<a href=\"https://colab.research.google.com/github/Jufersoto/Organize-music/blob/main/Extract_playlists_features.ipynb\" target=\"_parent\"><img src=\"https://colab.research.google.com/assets/colab-badge.svg\" alt=\"Open In Colab\"/></a>"
      ]
    },
    {
      "cell_type": "markdown",
      "metadata": {
        "id": "96O99mxlrWXH"
      },
      "source": [
        "# Instalar Librerias"
      ]
    },
    {
      "cell_type": "code",
      "execution_count": null,
      "metadata": {
        "colab": {
          "base_uri": "https://localhost:8080/"
        },
        "id": "1qIdHwdrpmSA",
        "outputId": "697ba634-c1fe-4d07-9b34-73d1266915d4"
      },
      "outputs": [
        {
          "output_type": "stream",
          "name": "stdout",
          "text": [
            "Looking in indexes: https://pypi.org/simple, https://us-python.pkg.dev/colab-wheels/public/simple/\n",
            "Requirement already satisfied: spotipy in /usr/local/lib/python3.10/dist-packages (2.23.0)\n",
            "Requirement already satisfied: redis>=3.5.3 in /usr/local/lib/python3.10/dist-packages (from spotipy) (4.5.5)\n",
            "Requirement already satisfied: requests>=2.25.0 in /usr/local/lib/python3.10/dist-packages (from spotipy) (2.27.1)\n",
            "Requirement already satisfied: six>=1.15.0 in /usr/local/lib/python3.10/dist-packages (from spotipy) (1.16.0)\n",
            "Requirement already satisfied: urllib3>=1.26.0 in /usr/local/lib/python3.10/dist-packages (from spotipy) (1.26.15)\n",
            "Requirement already satisfied: async-timeout>=4.0.2 in /usr/local/lib/python3.10/dist-packages (from redis>=3.5.3->spotipy) (4.0.2)\n",
            "Requirement already satisfied: certifi>=2017.4.17 in /usr/local/lib/python3.10/dist-packages (from requests>=2.25.0->spotipy) (2022.12.7)\n",
            "Requirement already satisfied: charset-normalizer~=2.0.0 in /usr/local/lib/python3.10/dist-packages (from requests>=2.25.0->spotipy) (2.0.12)\n",
            "Requirement already satisfied: idna<4,>=2.5 in /usr/local/lib/python3.10/dist-packages (from requests>=2.25.0->spotipy) (3.4)\n"
          ]
        }
      ],
      "source": [
        "!pip install spotipy"
      ]
    },
    {
      "cell_type": "code",
      "execution_count": null,
      "metadata": {
        "id": "GdFxyZXLk5hI"
      },
      "outputs": [],
      "source": [
        "import spotipy\n",
        "import spotipy.util as util\n",
        "from spotipy.oauth2 import SpotifyClientCredentials\n",
        "from spotipy.oauth2 import SpotifyOAuth\n",
        "\n",
        "import pandas as pd\n",
        "import numpy as np\n",
        "\n",
        "from sklearn.model_selection import train_test_split\n",
        "from sklearn.preprocessing import StandardScaler\n",
        "from sklearn.datasets import make_blobs\n",
        "from sklearn.neural_network import MLPClassifier\n",
        "#from skfuzzy.cluster import cmeans\n",
        "\n",
        "from sklearn import metrics\n",
        "from sklearn.metrics import matthews_corrcoef\n",
        "from sklearn.metrics import accuracy_score\n",
        "from sklearn.metrics import f1_score\n",
        "from sklearn.metrics import classification_report\n",
        "\n",
        "import sklearn\n",
        "from sklearn.svm import SVC\n",
        "from sklearn.neighbors import KNeighborsClassifier\n",
        "from sklearn.linear_model import LogisticRegression\n",
        "from sklearn.ensemble import RandomForestClassifier, GradientBoostingClassifier\n",
        "from sklearn.linear_model import LogisticRegression\n",
        "from sklearn.model_selection import cross_val_score\n",
        "from sklearn.model_selection import GridSearchCV\n"
      ]
    },
    {
      "cell_type": "markdown",
      "metadata": {
        "id": "HzBB6uh1rgOk"
      },
      "source": [
        "# Sacar los datos de Spotify"
      ]
    },
    {
      "cell_type": "code",
      "execution_count": null,
      "metadata": {
        "id": "6DpGym8pGAa6"
      },
      "outputs": [],
      "source": [
        "SPOTIFY_CLIENT_ID = \"632358ae06694582b4083ca4b161f74d\" \n",
        "SPOTIFY_CLIENT_SECRET = \"366ffad5ed834380ba6d56bc300882bb\" \n",
        "SPOTIFY_REDIRECT_URI = 'https://www.google.com/'\n",
        "SCOPE = \"playlist-modify-public playlist-read-private playlist-modify-private user-library-read\"\n",
        "username = 'jufersoto'\n",
        "#https://open.spotify.com/user/jufersoto?si=5689a19438b747f3"
      ]
    },
    {
      "cell_type": "code",
      "execution_count": null,
      "metadata": {
        "colab": {
          "base_uri": "https://localhost:8080/"
        },
        "id": "FgaJTDYBqxtc",
        "outputId": "c2c60230-bb50-4b10-a7ad-8281f68e5137"
      },
      "outputs": [
        {
          "output_type": "stream",
          "name": "stdout",
          "text": [
            "Authorization Sucessful!\n"
          ]
        }
      ],
      "source": [
        "sp = spotipy.Spotify(\n",
        "    auth_manager=spotipy.SpotifyOAuth(\n",
        "        client_id=SPOTIFY_CLIENT_ID,\n",
        "        client_secret=SPOTIFY_CLIENT_SECRET,\n",
        "        redirect_uri=SPOTIFY_REDIRECT_URI,\n",
        "        scope=SCOPE, open_browser=False),\n",
        "        requests_timeout=20, retries=10)\n",
        "print('Authorization Sucessful!')"
      ]
    },
    {
      "cell_type": "code",
      "execution_count": null,
      "metadata": {
        "id": "dSBdw2u9KgQ5",
        "colab": {
          "base_uri": "https://localhost:8080/"
        },
        "outputId": "9ae5be91-e63b-46fd-ed64-075f8a101be6"
      },
      "outputs": [
        {
          "output_type": "stream",
          "name": "stdout",
          "text": [
            "[{'collaborative': False, 'description': 'This is Paté de Fuá. The essential tracks, all in one playlist.', 'external_urls': {'spotify': 'https://open.spotify.com/playlist/37i9dQZF1DZ06evO0BJ8es'}, 'href': 'https://api.spotify.com/v1/playlists/37i9dQZF1DZ06evO0BJ8es', 'id': '37i9dQZF1DZ06evO0BJ8es', 'images': [{'height': None, 'url': 'https://thisis-images.scdn.co/37i9dQZF1DZ06evO0BJ8es-large.jpg', 'width': None}], 'name': 'This Is Paté de Fuá', 'owner': {'display_name': 'Spotify', 'external_urls': {'spotify': 'https://open.spotify.com/user/spotify'}, 'href': 'https://api.spotify.com/v1/users/spotify', 'id': 'spotify', 'type': 'user', 'uri': 'spotify:user:spotify'}, 'primary_color': None, 'public': False, 'snapshot_id': 'MjgwOTIyOTAsMDAwMDAwMDA5NjczMjQwYTZhNGRhZTA1YzYxYmU5NjgzNmVhMDQ5Nw==', 'tracks': {'href': 'https://api.spotify.com/v1/playlists/37i9dQZF1DZ06evO0BJ8es/tracks', 'total': 44}, 'type': 'playlist', 'uri': 'spotify:playlist:37i9dQZF1DZ06evO0BJ8es'}, {'collaborative': False, 'description': '', 'external_urls': {'spotify': 'https://open.spotify.com/playlist/3OKrOvVXlVUvpUuUAYEqQd'}, 'href': 'https://api.spotify.com/v1/playlists/3OKrOvVXlVUvpUuUAYEqQd', 'id': '3OKrOvVXlVUvpUuUAYEqQd', 'images': [{'height': 640, 'url': 'https://mosaic.scdn.co/640/ab67616d0000b2735e5805af2a83ba91f7d838abab67616d0000b2737386debd61d7330feec994daab67616d0000b27390b114d8ee81a76d1951a5d4ab67616d0000b273feb6b526f902ea23cc41974c', 'width': 640}, {'height': 300, 'url': 'https://mosaic.scdn.co/300/ab67616d0000b2735e5805af2a83ba91f7d838abab67616d0000b2737386debd61d7330feec994daab67616d0000b27390b114d8ee81a76d1951a5d4ab67616d0000b273feb6b526f902ea23cc41974c', 'width': 300}, {'height': 60, 'url': 'https://mosaic.scdn.co/60/ab67616d0000b2735e5805af2a83ba91f7d838abab67616d0000b2737386debd61d7330feec994daab67616d0000b27390b114d8ee81a76d1951a5d4ab67616d0000b273feb6b526f902ea23cc41974c', 'width': 60}], 'name': 'Matices del Amor ', 'owner': {'display_name': 'María Alejandra Merchán', 'external_urls': {'spotify': 'https://open.spotify.com/user/6spl4r2yocyoom82xm964hhqm'}, 'href': 'https://api.spotify.com/v1/users/6spl4r2yocyoom82xm964hhqm', 'id': '6spl4r2yocyoom82xm964hhqm', 'type': 'user', 'uri': 'spotify:user:6spl4r2yocyoom82xm964hhqm'}, 'primary_color': None, 'public': False, 'snapshot_id': 'MzAsMjM1NzUzN2FhYzJhZmNmOTdiN2U4ZTVkNmQ1MDk5ZDcwYjAzNTg2Zg==', 'tracks': {'href': 'https://api.spotify.com/v1/playlists/3OKrOvVXlVUvpUuUAYEqQd/tracks', 'total': 28}, 'type': 'playlist', 'uri': 'spotify:playlist:3OKrOvVXlVUvpUuUAYEqQd'}, {'collaborative': False, 'description': '<a href=spotify:playlist:37i9dQZF1EIZvfPa8ZMXbT>Sanalejo</a>, <a href=spotify:playlist:37i9dQZF1EIWHQdfsYl5Tn>La Derecha</a> et <a href=spotify:playlist:37i9dQZF1EIWpHUkO5RAKc>Doctor Krápula</a>', 'external_urls': {'spotify': 'https://open.spotify.com/playlist/37i9dQZF1EIZvhWE5ftBUb'}, 'href': 'https://api.spotify.com/v1/playlists/37i9dQZF1EIZvhWE5ftBUb', 'id': '37i9dQZF1EIZvhWE5ftBUb', 'images': [{'height': None, 'url': 'https://seed-mix-image.spotifycdn.com/v6/img/artist/0KuSKX95imv2ymBDqrixLv/fr/large', 'width': None}], 'name': 'Mix\\xa0LosPetitFellas', 'owner': {'display_name': 'Spotify', 'external_urls': {'spotify': 'https://open.spotify.com/user/spotify'}, 'href': 'https://api.spotify.com/v1/users/spotify', 'id': 'spotify', 'type': 'user', 'uri': 'spotify:user:spotify'}, 'primary_color': None, 'public': False, 'snapshot_id': 'MCwwMDAwMDAwMDE0NTRlMTU2YTQ5NmRmMTQzMjY0ODcyYWU0NWM4YWVi', 'tracks': {'href': 'https://api.spotify.com/v1/playlists/37i9dQZF1EIZvhWE5ftBUb/tracks', 'total': 50}, 'type': 'playlist', 'uri': 'spotify:playlist:37i9dQZF1EIZvhWE5ftBUb'}, {'collaborative': False, 'description': 'Los clásicos no pasan de moda. <a href=https://spotify.com/descubretuflow>Descubre tu Flow</a>  ', 'external_urls': {'spotify': 'https://open.spotify.com/playlist/37i9dQZF1DWZnX16cvcI94'}, 'href': 'https://api.spotify.com/v1/playlists/37i9dQZF1DWZnX16cvcI94', 'id': '37i9dQZF1DWZnX16cvcI94', 'images': [{'height': None, 'url': 'https://i.scdn.co/image/ab67706f0000000356f5d3337aa747e51fcd1ab7', 'width': None}], 'name': 'Flow Leyenda', 'owner': {'display_name': 'Spotify', 'external_urls': {'spotify': 'https://open.spotify.com/user/spotify'}, 'href': 'https://api.spotify.com/v1/users/spotify', 'id': 'spotify', 'type': 'user', 'uri': 'spotify:user:spotify'}, 'primary_color': None, 'public': True, 'snapshot_id': 'MTY4NDkyNjAwMCwwMDAwMDAwMDYxODNiNmY5YjBlNzg0OGI5ZDMwZDk2NzZkMzVlMjJl', 'tracks': {'href': 'https://api.spotify.com/v1/playlists/37i9dQZF1DWZnX16cvcI94/tracks', 'total': 50}, 'type': 'playlist', 'uri': 'spotify:playlist:37i9dQZF1DWZnX16cvcI94'}, {'collaborative': False, 'description': '¡Chirimía, currulao y bunde... el Pacífico suena aquí! Foto: Mauro Castillo', 'external_urls': {'spotify': 'https://open.spotify.com/playlist/37i9dQZF1DX1ywbRrraL4n'}, 'href': 'https://api.spotify.com/v1/playlists/37i9dQZF1DX1ywbRrraL4n', 'id': '37i9dQZF1DX1ywbRrraL4n', 'images': [{'height': None, 'url': 'https://i.scdn.co/image/ab67706f00000003def1989ba0c7bf45deadb3d8', 'width': None}], 'name': 'Pacífico Colombiano', 'owner': {'display_name': 'Spotify', 'external_urls': {'spotify': 'https://open.spotify.com/user/spotify'}, 'href': 'https://api.spotify.com/v1/users/spotify', 'id': 'spotify', 'type': 'user', 'uri': 'spotify:user:spotify'}, 'primary_color': None, 'public': False, 'snapshot_id': 'MTY3NjU3OTU3NiwwMDAwMDAwMDhiNjRhYWQ4MjBiNzkwYjg5ZWE0YTA1OGE1ZDU4ZDI1', 'tracks': {'href': 'https://api.spotify.com/v1/playlists/37i9dQZF1DX1ywbRrraL4n/tracks', 'total': 65}, 'type': 'playlist', 'uri': 'spotify:playlist:37i9dQZF1DX1ywbRrraL4n'}, {'collaborative': False, 'description': '<a href=spotify:playlist:37i9dQZF1EIZGaG10wTZgE>El Caribefunk</a>, <a href=spotify:playlist:37i9dQZF1EIWlLgtSXuBC0>La Garfield</a>, <a href=spotify:playlist:37i9dQZF1EIWgu8ogi3TYy>Vicente Garcia</a> and more', 'external_urls': {'spotify': 'https://open.spotify.com/playlist/37i9dQZF1EQqedj0y9Uwvu'}, 'href': 'https://api.spotify.com/v1/playlists/37i9dQZF1EQqedj0y9Uwvu', 'id': '37i9dQZF1EQqedj0y9Uwvu', 'images': [{'height': None, 'url': 'https://seed-mix-image.spotifycdn.com/v6/img/twenty_tens/25UVM4HwATaXX6M7SXT1JI/en/large', 'width': None}], 'name': '2010s Mix', 'owner': {'display_name': 'Spotify', 'external_urls': {'spotify': 'https://open.spotify.com/user/spotify'}, 'href': 'https://api.spotify.com/v1/users/spotify', 'id': 'spotify', 'type': 'user', 'uri': 'spotify:user:spotify'}, 'primary_color': None, 'public': False, 'snapshot_id': 'MTY4NTUxMjgwMCwwMDAwMDAwMDZkMTY5M2UyMWJiMzFmOGMzNzI0NTE5NGJkMDE0YTZi', 'tracks': {'href': 'https://api.spotify.com/v1/playlists/37i9dQZF1EQqedj0y9Uwvu/tracks', 'total': 50}, 'type': 'playlist', 'uri': 'spotify:playlist:37i9dQZF1EQqedj0y9Uwvu'}, {'collaborative': False, 'description': '', 'external_urls': {'spotify': 'https://open.spotify.com/playlist/32pEq7LMilhgZUmXaYfbZE'}, 'href': 'https://api.spotify.com/v1/playlists/32pEq7LMilhgZUmXaYfbZE', 'id': '32pEq7LMilhgZUmXaYfbZE', 'images': [{'height': 640, 'url': 'https://mosaic.scdn.co/640/ab67616d0000b273052d58444fff15346b74f242ab67616d0000b2733614e26f0db450a2ed55a4caab67616d0000b273735eecca68d3bb03e2e35a75ab67616d0000b273c25072f03b658eb007dceb83', 'width': 640}, {'height': 300, 'url': 'https://mosaic.scdn.co/300/ab67616d0000b273052d58444fff15346b74f242ab67616d0000b2733614e26f0db450a2ed55a4caab67616d0000b273735eecca68d3bb03e2e35a75ab67616d0000b273c25072f03b658eb007dceb83', 'width': 300}, {'height': 60, 'url': 'https://mosaic.scdn.co/60/ab67616d0000b273052d58444fff15346b74f242ab67616d0000b2733614e26f0db450a2ed55a4caab67616d0000b273735eecca68d3bb03e2e35a75ab67616d0000b273c25072f03b658eb007dceb83', 'width': 60}], 'name': 'Metal 100%', 'owner': {'display_name': 'Sebastián Mora', 'external_urls': {'spotify': 'https://open.spotify.com/user/gsj3xmv3wldx18pkh8jfdaw5r'}, 'href': 'https://api.spotify.com/v1/users/gsj3xmv3wldx18pkh8jfdaw5r', 'id': 'gsj3xmv3wldx18pkh8jfdaw5r', 'type': 'user', 'uri': 'spotify:user:gsj3xmv3wldx18pkh8jfdaw5r'}, 'primary_color': None, 'public': False, 'snapshot_id': 'MTIzLDZhOWUxMTA5M2UxNGM5MTIyOGY5MDE5Y2RhNjVmNzk4ODI2NTZhMWU=', 'tracks': {'href': 'https://api.spotify.com/v1/playlists/32pEq7LMilhgZUmXaYfbZE/tracks', 'total': 119}, 'type': 'playlist', 'uri': 'spotify:playlist:32pEq7LMilhgZUmXaYfbZE'}, {'collaborative': False, 'description': '', 'external_urls': {'spotify': 'https://open.spotify.com/playlist/3QGN4gSwCHwjIOLKU1kiHS'}, 'href': 'https://api.spotify.com/v1/playlists/3QGN4gSwCHwjIOLKU1kiHS', 'id': '3QGN4gSwCHwjIOLKU1kiHS', 'images': [{'height': 640, 'url': 'https://mosaic.scdn.co/640/ab67616d0000b27308a1b1e0674086d3f1995e1bab67616d0000b2736da502e35a7a3e48de2b0f74ab67616d0000b273b4ad7ebaf4575f120eb3f193ab67616d0000b273c8913cd7b91bb7f6bbbec305', 'width': 640}, {'height': 300, 'url': 'https://mosaic.scdn.co/300/ab67616d0000b27308a1b1e0674086d3f1995e1bab67616d0000b2736da502e35a7a3e48de2b0f74ab67616d0000b273b4ad7ebaf4575f120eb3f193ab67616d0000b273c8913cd7b91bb7f6bbbec305', 'width': 300}, {'height': 60, 'url': 'https://mosaic.scdn.co/60/ab67616d0000b27308a1b1e0674086d3f1995e1bab67616d0000b2736da502e35a7a3e48de2b0f74ab67616d0000b273b4ad7ebaf4575f120eb3f193ab67616d0000b273c8913cd7b91bb7f6bbbec305', 'width': 60}], 'name': 'No Al Punk', 'owner': {'display_name': 'Lepi', 'external_urls': {'spotify': 'https://open.spotify.com/user/leopoldo200019'}, 'href': 'https://api.spotify.com/v1/users/leopoldo200019', 'id': 'leopoldo200019', 'type': 'user', 'uri': 'spotify:user:leopoldo200019'}, 'primary_color': None, 'public': False, 'snapshot_id': 'OTIsODliMjk4MGI0OWQ3MmI1YjcyN2NmNzQ1OTBkYTdlNjkwYjM1ZTMzYg==', 'tracks': {'href': 'https://api.spotify.com/v1/playlists/3QGN4gSwCHwjIOLKU1kiHS/tracks', 'total': 88}, 'type': 'playlist', 'uri': 'spotify:playlist:3QGN4gSwCHwjIOLKU1kiHS'}, {'collaborative': False, 'description': '', 'external_urls': {'spotify': 'https://open.spotify.com/playlist/7zdO6HGgMwHofbEkFYZfh5'}, 'href': 'https://api.spotify.com/v1/playlists/7zdO6HGgMwHofbEkFYZfh5', 'id': '7zdO6HGgMwHofbEkFYZfh5', 'images': [{'height': 640, 'url': 'https://mosaic.scdn.co/640/ab67616d0000b2732e02117d76426a08ac7c174fab67616d0000b2733783610207aa8461dac23d29ab67616d0000b2738dc0d801766a5aa6a33cbe37ab67616d0000b273ef7a6e0e7a3a342e54352584', 'width': 640}, {'height': 300, 'url': 'https://mosaic.scdn.co/300/ab67616d0000b2732e02117d76426a08ac7c174fab67616d0000b2733783610207aa8461dac23d29ab67616d0000b2738dc0d801766a5aa6a33cbe37ab67616d0000b273ef7a6e0e7a3a342e54352584', 'width': 300}, {'height': 60, 'url': 'https://mosaic.scdn.co/60/ab67616d0000b2732e02117d76426a08ac7c174fab67616d0000b2733783610207aa8461dac23d29ab67616d0000b2738dc0d801766a5aa6a33cbe37ab67616d0000b273ef7a6e0e7a3a342e54352584', 'width': 60}], 'name': 'Las joyitas del 2022', 'owner': {'display_name': 'Melissa Solis', 'external_urls': {'spotify': 'https://open.spotify.com/user/1279044756'}, 'href': 'https://api.spotify.com/v1/users/1279044756', 'id': '1279044756', 'type': 'user', 'uri': 'spotify:user:1279044756'}, 'primary_color': None, 'public': False, 'snapshot_id': 'NjgsNDZlNjIwOTBiYzdhNGQyMGI5Njk0ZDk5YzI4YjI0NjUzN2Y3YmU2Mw==', 'tracks': {'href': 'https://api.spotify.com/v1/playlists/7zdO6HGgMwHofbEkFYZfh5/tracks', 'total': 67}, 'type': 'playlist', 'uri': 'spotify:playlist:7zdO6HGgMwHofbEkFYZfh5'}, {'collaborative': False, 'description': 'Instrumental guitar shreddery. Cover: Angel Vivaldi', 'external_urls': {'spotify': 'https://open.spotify.com/playlist/37i9dQZF1DX5Lf3LZ6Czqu'}, 'href': 'https://api.spotify.com/v1/playlists/37i9dQZF1DX5Lf3LZ6Czqu', 'id': '37i9dQZF1DX5Lf3LZ6Czqu', 'images': [{'height': None, 'url': 'https://i.scdn.co/image/ab67706f000000033368380d94030f006e8621d4', 'width': None}], 'name': 'String Theory', 'owner': {'display_name': 'Spotify', 'external_urls': {'spotify': 'https://open.spotify.com/user/spotify'}, 'href': 'https://api.spotify.com/v1/users/spotify', 'id': 'spotify', 'type': 'user', 'uri': 'spotify:user:spotify'}, 'primary_color': None, 'public': False, 'snapshot_id': 'MTY4Mzg2NDA2MCwwMDAwMDAwMDQwN2ZhODQ0MjY5OTZkNjQ1OWZiNjFkYzE4OWEzMmY5', 'tracks': {'href': 'https://api.spotify.com/v1/playlists/37i9dQZF1DX5Lf3LZ6Czqu/tracks', 'total': 100}, 'type': 'playlist', 'uri': 'spotify:playlist:37i9dQZF1DX5Lf3LZ6Czqu'}, {'collaborative': False, 'description': 'Electrified jazz, complex beats and virtuoso playing. Cover: Chick Corea', 'external_urls': {'spotify': 'https://open.spotify.com/playlist/37i9dQZF1DX0aSJooo0zWR'}, 'href': 'https://api.spotify.com/v1/playlists/37i9dQZF1DX0aSJooo0zWR', 'id': '37i9dQZF1DX0aSJooo0zWR', 'images': [{'height': None, 'url': 'https://i.scdn.co/image/ab67706f000000032fc524b9da0bfee958e68170', 'width': None}], 'name': 'Fusion Fest', 'owner': {'display_name': 'Spotify', 'external_urls': {'spotify': 'https://open.spotify.com/user/spotify'}, 'href': 'https://api.spotify.com/v1/users/spotify', 'id': 'spotify', 'type': 'user', 'uri': 'spotify:user:spotify'}, 'primary_color': None, 'public': False, 'snapshot_id': 'MTY3NjYxMDA2MCwwMDAwMDAwMDhmOWFmOGJkNmVmNDhhNTQyMDRkY2E2YzhmYzYzZDk5', 'tracks': {'href': 'https://api.spotify.com/v1/playlists/37i9dQZF1DX0aSJooo0zWR/tracks', 'total': 80}, 'type': 'playlist', 'uri': 'spotify:playlist:37i9dQZF1DX0aSJooo0zWR'}, {'collaborative': False, 'description': '', 'external_urls': {'spotify': 'https://open.spotify.com/playlist/7yllph0hTZDHfnwI0lh8JH'}, 'href': 'https://api.spotify.com/v1/playlists/7yllph0hTZDHfnwI0lh8JH', 'id': '7yllph0hTZDHfnwI0lh8JH', 'images': [{'height': 640, 'url': 'https://mosaic.scdn.co/640/ab67616d0000b27305418a99083b7551b30f5593ab67616d0000b2739c36bd7f5ec02c8af6c18cb8ab67616d0000b273a6b8eeff8cf7c0df77813234ab67616d0000b273a8d3579b47edc658f075ba48', 'width': 640}, {'height': 300, 'url': 'https://mosaic.scdn.co/300/ab67616d0000b27305418a99083b7551b30f5593ab67616d0000b2739c36bd7f5ec02c8af6c18cb8ab67616d0000b273a6b8eeff8cf7c0df77813234ab67616d0000b273a8d3579b47edc658f075ba48', 'width': 300}, {'height': 60, 'url': 'https://mosaic.scdn.co/60/ab67616d0000b27305418a99083b7551b30f5593ab67616d0000b2739c36bd7f5ec02c8af6c18cb8ab67616d0000b273a6b8eeff8cf7c0df77813234ab67616d0000b273a8d3579b47edc658f075ba48', 'width': 60}], 'name': 'Metal Instrumental', 'owner': {'display_name': 'Lepi', 'external_urls': {'spotify': 'https://open.spotify.com/user/leopoldo200019'}, 'href': 'https://api.spotify.com/v1/users/leopoldo200019', 'id': 'leopoldo200019', 'type': 'user', 'uri': 'spotify:user:leopoldo200019'}, 'primary_color': None, 'public': False, 'snapshot_id': 'MzksMzY2M2RjMWQyYTQ1ZTQ2ZTRjNzgyMjg2Y2QwZmQ0NDRiNWVhMWUyYQ==', 'tracks': {'href': 'https://api.spotify.com/v1/playlists/7yllph0hTZDHfnwI0lh8JH/tracks', 'total': 126}, 'type': 'playlist', 'uri': 'spotify:playlist:7yllph0hTZDHfnwI0lh8JH'}, {'collaborative': False, 'description': '', 'external_urls': {'spotify': 'https://open.spotify.com/playlist/5ZUgqAY5Qpl43nBNYn8BTr'}, 'href': 'https://api.spotify.com/v1/playlists/5ZUgqAY5Qpl43nBNYn8BTr', 'id': '5ZUgqAY5Qpl43nBNYn8BTr', 'images': [{'height': 640, 'url': 'https://mosaic.scdn.co/640/ab67616d0000b27314227d23a7da76fc7277f5a8ab67616d0000b2733ec03fe41ddb3f5afa13c823ab67616d0000b2739e9441f112f7168dbe45640bab67616d0000b273b1fa98c5c5af128240ffabf5', 'width': 640}, {'height': 300, 'url': 'https://mosaic.scdn.co/300/ab67616d0000b27314227d23a7da76fc7277f5a8ab67616d0000b2733ec03fe41ddb3f5afa13c823ab67616d0000b2739e9441f112f7168dbe45640bab67616d0000b273b1fa98c5c5af128240ffabf5', 'width': 300}, {'height': 60, 'url': 'https://mosaic.scdn.co/60/ab67616d0000b27314227d23a7da76fc7277f5a8ab67616d0000b2733ec03fe41ddb3f5afa13c823ab67616d0000b2739e9441f112f7168dbe45640bab67616d0000b273b1fa98c5c5af128240ffabf5', 'width': 60}], 'name': 'Cumbias, gaitas, bullerengues y porros tradicionales de Colombia', 'owner': {'display_name': 'Profesora Pinilla', 'external_urls': {'spotify': 'https://open.spotify.com/user/12132407574'}, 'href': 'https://api.spotify.com/v1/users/12132407574', 'id': '12132407574', 'type': 'user', 'uri': 'spotify:user:12132407574'}, 'primary_color': None, 'public': False, 'snapshot_id': 'MTM2LDRhZTEwMTM3MWVjOThlM2Q4MWY0MGU4NjUzOGZjMWQ4MjE1MTgxMGQ=', 'tracks': {'href': 'https://api.spotify.com/v1/playlists/5ZUgqAY5Qpl43nBNYn8BTr/tracks', 'total': 69}, 'type': 'playlist', 'uri': 'spotify:playlist:5ZUgqAY5Qpl43nBNYn8BTr'}, {'collaborative': False, 'description': 'Take yourself to Havana with some Cuban Salsa and Café favourites.', 'external_urls': {'spotify': 'https://open.spotify.com/playlist/37i9dQZF1DWZLN2cXno63R'}, 'href': 'https://api.spotify.com/v1/playlists/37i9dQZF1DWZLN2cXno63R', 'id': '37i9dQZF1DWZLN2cXno63R', 'images': [{'height': None, 'url': 'https://i.scdn.co/image/ab67706f00000003d142d7feb73b11db237b11e8', 'width': None}], 'name': 'Café Cubano', 'owner': {'display_name': 'Spotify', 'external_urls': {'spotify': 'https://open.spotify.com/user/spotify'}, 'href': 'https://api.spotify.com/v1/users/spotify', 'id': 'spotify', 'type': 'user', 'uri': 'spotify:user:spotify'}, 'primary_color': None, 'public': False, 'snapshot_id': 'MTY1OTY5OTY4NSwwMDAwMDAwMDU2NmE3MGE0YTBlM2RhYmQwZDliYmRhNWZiOWI4OWNj', 'tracks': {'href': 'https://api.spotify.com/v1/playlists/37i9dQZF1DWZLN2cXno63R/tracks', 'total': 62}, 'type': 'playlist', 'uri': 'spotify:playlist:37i9dQZF1DWZLN2cXno63R'}, {'collaborative': False, 'description': 'Bullerengue sentao, chalupa y fandango. Afro-Colombia.&#x2F; @clllllllau', 'external_urls': {'spotify': 'https://open.spotify.com/playlist/0dGa3Psq8r4wMu6bp2d7Ei'}, 'href': 'https://api.spotify.com/v1/playlists/0dGa3Psq8r4wMu6bp2d7Ei', 'id': '0dGa3Psq8r4wMu6bp2d7Ei', 'images': [{'height': None, 'url': 'https://i.scdn.co/image/ab67706c0000bebbfd87cde67f195d7ae28b8231', 'width': None}], 'name': 'BULLERENGUE', 'owner': {'display_name': 'klau', 'external_urls': {'spotify': 'https://open.spotify.com/user/klauskis'}, 'href': 'https://api.spotify.com/v1/users/klauskis', 'id': 'klauskis', 'type': 'user', 'uri': 'spotify:user:klauskis'}, 'primary_color': None, 'public': False, 'snapshot_id': 'MTIwLDhkZThjMTA0N2ZkMDIzOTU4NzA5ODljMDZjZTc1ZTIwYTU3N2YyODQ=', 'tracks': {'href': 'https://api.spotify.com/v1/playlists/0dGa3Psq8r4wMu6bp2d7Ei/tracks', 'total': 64}, 'type': 'playlist', 'uri': 'spotify:playlist:0dGa3Psq8r4wMu6bp2d7Ei'}, {'collaborative': False, 'description': 'Pinches cumbiones bien locos para bailar.', 'external_urls': {'spotify': 'https://open.spotify.com/playlist/37i9dQZF1DWTmXOdGkHqGs'}, 'href': 'https://api.spotify.com/v1/playlists/37i9dQZF1DWTmXOdGkHqGs', 'id': '37i9dQZF1DWTmXOdGkHqGs', 'images': [{'height': None, 'url': 'https://i.scdn.co/image/ab67706f00000003bdf2d7383197d20b2fd058f7', 'width': None}], 'name': '50 Cumbiones Bien Locos', 'owner': {'display_name': 'Spotify', 'external_urls': {'spotify': 'https://open.spotify.com/user/spotify'}, 'href': 'https://api.spotify.com/v1/users/spotify', 'id': 'spotify', 'type': 'user', 'uri': 'spotify:user:spotify'}, 'primary_color': None, 'public': False, 'snapshot_id': 'MTY3Mzk2Njc3NywwMDAwMDAwMDgzZjY3YTFmOWJhMjY2NWU5ZDk0ZTg2Y2JhNGIyYmIx', 'tracks': {'href': 'https://api.spotify.com/v1/playlists/37i9dQZF1DWTmXOdGkHqGs/tracks', 'total': 100}, 'type': 'playlist', 'uri': 'spotify:playlist:37i9dQZF1DWTmXOdGkHqGs'}, {'collaborative': False, 'description': '<a href=spotify:playlist:37i9dQZF1EIWMOQNiCD1VM>Caravan Palace</a>, <a href=spotify:playlist:37i9dQZF1EIXN8vWpOgAhx>El Kanka</a>, <a href=spotify:playlist:37i9dQZF1EIWgu8ogi3TYy>Vicente Garcia</a> and more', 'external_urls': {'spotify': 'https://open.spotify.com/playlist/37i9dQZF1EVHGWrwldPRtj'}, 'href': 'https://api.spotify.com/v1/playlists/37i9dQZF1EVHGWrwldPRtj', 'id': '37i9dQZF1EVHGWrwldPRtj', 'images': [{'height': None, 'url': 'https://seed-mix-image.spotifycdn.com/v6/img/chill/37J1PlAkhRK7yrZUtqaUpQ/en/large', 'width': None}], 'name': 'Chill Mix', 'owner': {'display_name': 'Spotify', 'external_urls': {'spotify': 'https://open.spotify.com/user/spotify'}, 'href': 'https://api.spotify.com/v1/users/spotify', 'id': 'spotify', 'type': 'user', 'uri': 'spotify:user:spotify'}, 'primary_color': None, 'public': False, 'snapshot_id': 'MTY4NTUxMjgwMCwwMDAwMDAwMDY1NDQ5MzMzOTlhNGQwMmUxNTgzOTdiOGZlODg5Yjg5', 'tracks': {'href': 'https://api.spotify.com/v1/playlists/37i9dQZF1EVHGWrwldPRtj/tracks', 'total': 50}, 'type': 'playlist', 'uri': 'spotify:playlist:37i9dQZF1EVHGWrwldPRtj'}, {'collaborative': False, 'description': '<a href=spotify:playlist:37i9dQZF1EIWgu8ogi3TYy>Vicente Garcia</a>, <a href=spotify:playlist:37i9dQZF1EIXN8vWpOgAhx>El Kanka</a> et <a href=spotify:playlist:37i9dQZF1EIWw9djbkdFwU>Rawayana</a>', 'external_urls': {'spotify': 'https://open.spotify.com/playlist/37i9dQZF1EIZGaG10wTZgE'}, 'href': 'https://api.spotify.com/v1/playlists/37i9dQZF1EIZGaG10wTZgE', 'id': '37i9dQZF1EIZGaG10wTZgE', 'images': [{'height': None, 'url': 'https://seed-mix-image.spotifycdn.com/v6/img/artist/25UVM4HwATaXX6M7SXT1JI/fr/large', 'width': None}], 'name': 'Mix\\xa0El Caribefunk', 'owner': {'display_name': 'Spotify', 'external_urls': {'spotify': 'https://open.spotify.com/user/spotify'}, 'href': 'https://api.spotify.com/v1/users/spotify', 'id': 'spotify', 'type': 'user', 'uri': 'spotify:user:spotify'}, 'primary_color': None, 'public': False, 'snapshot_id': 'MCwwMDAwMDAwMDJiYmIyNGUxZjk0NGZjNTNhNzg5ZDcwOGZlNWY5YjAz', 'tracks': {'href': 'https://api.spotify.com/v1/playlists/37i9dQZF1EIZGaG10wTZgE/tracks', 'total': 50}, 'type': 'playlist', 'uri': 'spotify:playlist:37i9dQZF1EIZGaG10wTZgE'}, {'collaborative': False, 'description': '', 'external_urls': {'spotify': 'https://open.spotify.com/playlist/4GNJKWvYjUSMcECF4GdL2g'}, 'href': 'https://api.spotify.com/v1/playlists/4GNJKWvYjUSMcECF4GdL2g', 'id': '4GNJKWvYjUSMcECF4GdL2g', 'images': [{'height': 640, 'url': 'https://mosaic.scdn.co/640/ab67616d0000b2734b77a291d4c315a424c5e140ab67616d0000b273ac577027587c8541d8313710ab67616d0000b273ce6ab938251398267d8bab70ab67616d0000b273f5397a412658c978232a1c10', 'width': 640}, {'height': 300, 'url': 'https://mosaic.scdn.co/300/ab67616d0000b2734b77a291d4c315a424c5e140ab67616d0000b273ac577027587c8541d8313710ab67616d0000b273ce6ab938251398267d8bab70ab67616d0000b273f5397a412658c978232a1c10', 'width': 300}, {'height': 60, 'url': 'https://mosaic.scdn.co/60/ab67616d0000b2734b77a291d4c315a424c5e140ab67616d0000b273ac577027587c8541d8313710ab67616d0000b273ce6ab938251398267d8bab70ab67616d0000b273f5397a412658c978232a1c10', 'width': 60}], 'name': 'Hablan rapido', 'owner': {'display_name': 'Juan Fernando Soto Rodriguez', 'external_urls': {'spotify': 'https://open.spotify.com/user/jufersoto'}, 'href': 'https://api.spotify.com/v1/users/jufersoto', 'id': 'jufersoto', 'type': 'user', 'uri': 'spotify:user:jufersoto'}, 'primary_color': None, 'public': True, 'snapshot_id': 'MzcsNzNkZTllMzI1NDZlZTlkOTg1NWVhYTA1YjEwOTA0YzU4MDBhODdlMQ==', 'tracks': {'href': 'https://api.spotify.com/v1/playlists/4GNJKWvYjUSMcECF4GdL2g/tracks', 'total': 35}, 'type': 'playlist', 'uri': 'spotify:playlist:4GNJKWvYjUSMcECF4GdL2g'}, {'collaborative': False, 'description': '', 'external_urls': {'spotify': 'https://open.spotify.com/playlist/0zDH3bWGiTBTR7YBpjlV1V'}, 'href': 'https://api.spotify.com/v1/playlists/0zDH3bWGiTBTR7YBpjlV1V', 'id': '0zDH3bWGiTBTR7YBpjlV1V', 'images': [{'height': 640, 'url': 'https://mosaic.scdn.co/640/ab67616d0000b2731a168bcbcb2462f1011e3e03ab67616d0000b2731adb1e8f26058cf4e8c89b27ab67616d0000b273c5716278abba6a103ad13aa7ab67616d0000b273efee8d6440101df3faf848b2', 'width': 640}, {'height': 300, 'url': 'https://mosaic.scdn.co/300/ab67616d0000b2731a168bcbcb2462f1011e3e03ab67616d0000b2731adb1e8f26058cf4e8c89b27ab67616d0000b273c5716278abba6a103ad13aa7ab67616d0000b273efee8d6440101df3faf848b2', 'width': 300}, {'height': 60, 'url': 'https://mosaic.scdn.co/60/ab67616d0000b2731a168bcbcb2462f1011e3e03ab67616d0000b2731adb1e8f26058cf4e8c89b27ab67616d0000b273c5716278abba6a103ad13aa7ab67616d0000b273efee8d6440101df3faf848b2', 'width': 60}], 'name': 'Uh lala señor francés', 'owner': {'display_name': 'Juan Fernando Soto Rodriguez', 'external_urls': {'spotify': 'https://open.spotify.com/user/jufersoto'}, 'href': 'https://api.spotify.com/v1/users/jufersoto', 'id': 'jufersoto', 'type': 'user', 'uri': 'spotify:user:jufersoto'}, 'primary_color': None, 'public': True, 'snapshot_id': 'NDEsZDBhMDM4MWI4YTZkZWIxZTM1ZDJjMWJjMjFiNjcxMTU4ZWFkYmUzMg==', 'tracks': {'href': 'https://api.spotify.com/v1/playlists/0zDH3bWGiTBTR7YBpjlV1V/tracks', 'total': 35}, 'type': 'playlist', 'uri': 'spotify:playlist:0zDH3bWGiTBTR7YBpjlV1V'}, {'collaborative': False, 'description': '', 'external_urls': {'spotify': 'https://open.spotify.com/playlist/7uOCJXosoKAz8IPhE8cll7'}, 'href': 'https://api.spotify.com/v1/playlists/7uOCJXosoKAz8IPhE8cll7', 'id': '7uOCJXosoKAz8IPhE8cll7', 'images': [{'height': 640, 'url': 'https://mosaic.scdn.co/640/ab67616d0000b2735374e0160ead917b6e73b61fab67616d0000b27360fbacf85489672c5e5e5321ab67616d0000b2739387cc743985d42494e17a75ab67616d0000b273e75742385df2e0a026001e0d', 'width': 640}, {'height': 300, 'url': 'https://mosaic.scdn.co/300/ab67616d0000b2735374e0160ead917b6e73b61fab67616d0000b27360fbacf85489672c5e5e5321ab67616d0000b2739387cc743985d42494e17a75ab67616d0000b273e75742385df2e0a026001e0d', 'width': 300}, {'height': 60, 'url': 'https://mosaic.scdn.co/60/ab67616d0000b2735374e0160ead917b6e73b61fab67616d0000b27360fbacf85489672c5e5e5321ab67616d0000b2739387cc743985d42494e17a75ab67616d0000b273e75742385df2e0a026001e0d', 'width': 60}], 'name': 'Top cross', 'owner': {'display_name': 'Juan Fernando Soto Rodriguez', 'external_urls': {'spotify': 'https://open.spotify.com/user/jufersoto'}, 'href': 'https://api.spotify.com/v1/users/jufersoto', 'id': 'jufersoto', 'type': 'user', 'uri': 'spotify:user:jufersoto'}, 'primary_color': None, 'public': True, 'snapshot_id': 'MzQ0LDZiYjlhZDQ3MWVkYjg5NGE2YzVmYTM5MjBhMWE2NDM5YzI2NTI4YjA=', 'tracks': {'href': 'https://api.spotify.com/v1/playlists/7uOCJXosoKAz8IPhE8cll7/tracks', 'total': 324}, 'type': 'playlist', 'uri': 'spotify:playlist:7uOCJXosoKAz8IPhE8cll7'}, {'collaborative': False, 'description': '', 'external_urls': {'spotify': 'https://open.spotify.com/playlist/0cj46jTOw4pQ7DWeyQbc6O'}, 'href': 'https://api.spotify.com/v1/playlists/0cj46jTOw4pQ7DWeyQbc6O', 'id': '0cj46jTOw4pQ7DWeyQbc6O', 'images': [{'height': 640, 'url': 'https://mosaic.scdn.co/640/ab67616d0000b2735374e0160ead917b6e73b61fab67616d0000b2736ea42f5f6bd2d9e841df3e3eab67616d0000b273ce6ab938251398267d8bab70ab67616d0000b273e75742385df2e0a026001e0d', 'width': 640}, {'height': 300, 'url': 'https://mosaic.scdn.co/300/ab67616d0000b2735374e0160ead917b6e73b61fab67616d0000b2736ea42f5f6bd2d9e841df3e3eab67616d0000b273ce6ab938251398267d8bab70ab67616d0000b273e75742385df2e0a026001e0d', 'width': 300}, {'height': 60, 'url': 'https://mosaic.scdn.co/60/ab67616d0000b2735374e0160ead917b6e73b61fab67616d0000b2736ea42f5f6bd2d9e841df3e3eab67616d0000b273ce6ab938251398267d8bab70ab67616d0000b273e75742385df2e0a026001e0d', 'width': 60}], 'name': 'Pa las caderas y el corazón', 'owner': {'display_name': 'Juan Fernando Soto Rodriguez', 'external_urls': {'spotify': 'https://open.spotify.com/user/jufersoto'}, 'href': 'https://api.spotify.com/v1/users/jufersoto', 'id': 'jufersoto', 'type': 'user', 'uri': 'spotify:user:jufersoto'}, 'primary_color': None, 'public': True, 'snapshot_id': 'NTUsYWFiNmJjMzU0N2ZkOGEwY2IzODQ0NDQ0ODgwNWQyNGFmZTY0NDY5ZQ==', 'tracks': {'href': 'https://api.spotify.com/v1/playlists/0cj46jTOw4pQ7DWeyQbc6O/tracks', 'total': 47}, 'type': 'playlist', 'uri': 'spotify:playlist:0cj46jTOw4pQ7DWeyQbc6O'}, {'collaborative': False, 'description': '', 'external_urls': {'spotify': 'https://open.spotify.com/playlist/3JpNTlxzKk7Ji5Jsz4ChAz'}, 'href': 'https://api.spotify.com/v1/playlists/3JpNTlxzKk7Ji5Jsz4ChAz', 'id': '3JpNTlxzKk7Ji5Jsz4ChAz', 'images': [{'height': 640, 'url': 'https://mosaic.scdn.co/640/ab67616d0000b2732a896bf89ee1e87f1a774cb6ab67616d0000b2734b450ccd28706eb322f4c2afab67616d0000b273888804bf3b29ce064ebcdfb3ab67616d0000b273ef9cc029c15753d3a3e95dc7', 'width': 640}, {'height': 300, 'url': 'https://mosaic.scdn.co/300/ab67616d0000b2732a896bf89ee1e87f1a774cb6ab67616d0000b2734b450ccd28706eb322f4c2afab67616d0000b273888804bf3b29ce064ebcdfb3ab67616d0000b273ef9cc029c15753d3a3e95dc7', 'width': 300}, {'height': 60, 'url': 'https://mosaic.scdn.co/60/ab67616d0000b2732a896bf89ee1e87f1a774cb6ab67616d0000b2734b450ccd28706eb322f4c2afab67616d0000b273888804bf3b29ce064ebcdfb3ab67616d0000b273ef9cc029c15753d3a3e95dc7', 'width': 60}], 'name': 'Tangos y boleros', 'owner': {'display_name': 'Juan Fernando Soto Rodriguez', 'external_urls': {'spotify': 'https://open.spotify.com/user/jufersoto'}, 'href': 'https://api.spotify.com/v1/users/jufersoto', 'id': 'jufersoto', 'type': 'user', 'uri': 'spotify:user:jufersoto'}, 'primary_color': None, 'public': True, 'snapshot_id': 'NzYsMzY1MWY2MDBjZTBjNTNjNTQyMWM4ODRjMTFlYzJlODRiY2EzZTgxOA==', 'tracks': {'href': 'https://api.spotify.com/v1/playlists/3JpNTlxzKk7Ji5Jsz4ChAz/tracks', 'total': 74}, 'type': 'playlist', 'uri': 'spotify:playlist:3JpNTlxzKk7Ji5Jsz4ChAz'}, {'collaborative': False, 'description': '', 'external_urls': {'spotify': 'https://open.spotify.com/playlist/5YbR8iuAtFXcw1cGBwPhha'}, 'href': 'https://api.spotify.com/v1/playlists/5YbR8iuAtFXcw1cGBwPhha', 'id': '5YbR8iuAtFXcw1cGBwPhha', 'images': [{'height': 640, 'url': 'https://mosaic.scdn.co/640/ab67616d0000b2732bdbbb81798360f72a684c30ab67616d0000b273617e5ff7e15308039a2e690eab67616d0000b2737aa82f89e88568b159fa14e0ab67616d0000b273e7ec253a05ed1a3175124105', 'width': 640}, {'height': 300, 'url': 'https://mosaic.scdn.co/300/ab67616d0000b2732bdbbb81798360f72a684c30ab67616d0000b273617e5ff7e15308039a2e690eab67616d0000b2737aa82f89e88568b159fa14e0ab67616d0000b273e7ec253a05ed1a3175124105', 'width': 300}, {'height': 60, 'url': 'https://mosaic.scdn.co/60/ab67616d0000b2732bdbbb81798360f72a684c30ab67616d0000b273617e5ff7e15308039a2e690eab67616d0000b2737aa82f89e88568b159fa14e0ab67616d0000b273e7ec253a05ed1a3175124105', 'width': 60}], 'name': 'Cumbiones', 'owner': {'display_name': 'Juan Fernando Soto Rodriguez', 'external_urls': {'spotify': 'https://open.spotify.com/user/jufersoto'}, 'href': 'https://api.spotify.com/v1/users/jufersoto', 'id': 'jufersoto', 'type': 'user', 'uri': 'spotify:user:jufersoto'}, 'primary_color': None, 'public': True, 'snapshot_id': 'MjAwLGE5YjFhMmY2YWI5ZGMxNzQxMGVkOTRlMTMyNjI1ODhlNjk4ZWU5Zjk=', 'tracks': {'href': 'https://api.spotify.com/v1/playlists/5YbR8iuAtFXcw1cGBwPhha/tracks', 'total': 198}, 'type': 'playlist', 'uri': 'spotify:playlist:5YbR8iuAtFXcw1cGBwPhha'}, {'collaborative': False, 'description': '', 'external_urls': {'spotify': 'https://open.spotify.com/playlist/6T2AqEzxIgNB3abhxMw2h7'}, 'href': 'https://api.spotify.com/v1/playlists/6T2AqEzxIgNB3abhxMw2h7', 'id': '6T2AqEzxIgNB3abhxMw2h7', 'images': [{'height': 640, 'url': 'https://mosaic.scdn.co/640/ab67616d0000b273222e57ad8d001283dcbfe770ab67616d0000b2733c4ae9ba87d6c7a1f90754e1ab67616d0000b27351203c1b2805f8e83975d1afab67616d0000b273c71b3c9638497b47de51ede5', 'width': 640}, {'height': 300, 'url': 'https://mosaic.scdn.co/300/ab67616d0000b273222e57ad8d001283dcbfe770ab67616d0000b2733c4ae9ba87d6c7a1f90754e1ab67616d0000b27351203c1b2805f8e83975d1afab67616d0000b273c71b3c9638497b47de51ede5', 'width': 300}, {'height': 60, 'url': 'https://mosaic.scdn.co/60/ab67616d0000b273222e57ad8d001283dcbfe770ab67616d0000b2733c4ae9ba87d6c7a1f90754e1ab67616d0000b27351203c1b2805f8e83975d1afab67616d0000b273c71b3c9638497b47de51ede5', 'width': 60}], 'name': 'Iluminación', 'owner': {'display_name': 'Juan Fernando Soto Rodriguez', 'external_urls': {'spotify': 'https://open.spotify.com/user/jufersoto'}, 'href': 'https://api.spotify.com/v1/users/jufersoto', 'id': 'jufersoto', 'type': 'user', 'uri': 'spotify:user:jufersoto'}, 'primary_color': None, 'public': True, 'snapshot_id': 'MTAwLDg3OTAzZGFjZTNlNmNmNWIxZTZjNGEwYTVhZjY4MTliM2M5ZGU0YmI=', 'tracks': {'href': 'https://api.spotify.com/v1/playlists/6T2AqEzxIgNB3abhxMw2h7/tracks', 'total': 98}, 'type': 'playlist', 'uri': 'spotify:playlist:6T2AqEzxIgNB3abhxMw2h7'}, {'collaborative': False, 'description': '', 'external_urls': {'spotify': 'https://open.spotify.com/playlist/52NGwEl8Ab8rMzhEv2Z90r'}, 'href': 'https://api.spotify.com/v1/playlists/52NGwEl8Ab8rMzhEv2Z90r', 'id': '52NGwEl8Ab8rMzhEv2Z90r', 'images': [{'height': 640, 'url': 'https://mosaic.scdn.co/640/ab67616d0000b273a82a94423af9b822c2690524ab67616d0000b273bfa99afb5ef0d26d5064b23bab67616d0000b273d0ec2db731952a7efabc6397ab67616d0000b273f05f2e283a0928ecc7e1e359', 'width': 640}, {'height': 300, 'url': 'https://mosaic.scdn.co/300/ab67616d0000b273a82a94423af9b822c2690524ab67616d0000b273bfa99afb5ef0d26d5064b23bab67616d0000b273d0ec2db731952a7efabc6397ab67616d0000b273f05f2e283a0928ecc7e1e359', 'width': 300}, {'height': 60, 'url': 'https://mosaic.scdn.co/60/ab67616d0000b273a82a94423af9b822c2690524ab67616d0000b273bfa99afb5ef0d26d5064b23bab67616d0000b273d0ec2db731952a7efabc6397ab67616d0000b273f05f2e283a0928ecc7e1e359', 'width': 60}], 'name': 'Canciones en ingles que me depriman o me duerman, lo que pase primero', 'owner': {'display_name': 'Juan Fernando Soto Rodriguez', 'external_urls': {'spotify': 'https://open.spotify.com/user/jufersoto'}, 'href': 'https://api.spotify.com/v1/users/jufersoto', 'id': 'jufersoto', 'type': 'user', 'uri': 'spotify:user:jufersoto'}, 'primary_color': None, 'public': True, 'snapshot_id': 'OTAsZDJlOGEwNDMwMmY1OGM4OWI1MzZiNzJiOWZjYTU4ZmNmNTk1ZGNmOA==', 'tracks': {'href': 'https://api.spotify.com/v1/playlists/52NGwEl8Ab8rMzhEv2Z90r/tracks', 'total': 77}, 'type': 'playlist', 'uri': 'spotify:playlist:52NGwEl8Ab8rMzhEv2Z90r'}, {'collaborative': False, 'description': '', 'external_urls': {'spotify': 'https://open.spotify.com/playlist/2VMjThHK1sv6Ejv3VXzNGI'}, 'href': 'https://api.spotify.com/v1/playlists/2VMjThHK1sv6Ejv3VXzNGI', 'id': '2VMjThHK1sv6Ejv3VXzNGI', 'images': [{'height': 640, 'url': 'https://mosaic.scdn.co/640/ab67616d0000b2734814eaa84afa43b3327cbce9ab67616d0000b2737a9bf5f82e32d33d4503fe7bab67616d0000b2738f9c368d8d0f5792ffc5d38eab67616d0000b27390b4e1905b1fc48c537ec053', 'width': 640}, {'height': 300, 'url': 'https://mosaic.scdn.co/300/ab67616d0000b2734814eaa84afa43b3327cbce9ab67616d0000b2737a9bf5f82e32d33d4503fe7bab67616d0000b2738f9c368d8d0f5792ffc5d38eab67616d0000b27390b4e1905b1fc48c537ec053', 'width': 300}, {'height': 60, 'url': 'https://mosaic.scdn.co/60/ab67616d0000b2734814eaa84afa43b3327cbce9ab67616d0000b2737a9bf5f82e32d33d4503fe7bab67616d0000b2738f9c368d8d0f5792ffc5d38eab67616d0000b27390b4e1905b1fc48c537ec053', 'width': 60}], 'name': 'Popsito', 'owner': {'display_name': 'Juan Fernando Soto Rodriguez', 'external_urls': {'spotify': 'https://open.spotify.com/user/jufersoto'}, 'href': 'https://api.spotify.com/v1/users/jufersoto', 'id': 'jufersoto', 'type': 'user', 'uri': 'spotify:user:jufersoto'}, 'primary_color': None, 'public': True, 'snapshot_id': 'MTM2LDE2ZGU3ZWY4NGE2MTg4YzFmYTFjZTdjNDI0OTVmOTZmNGUwMmY1YjQ=', 'tracks': {'href': 'https://api.spotify.com/v1/playlists/2VMjThHK1sv6Ejv3VXzNGI/tracks', 'total': 134}, 'type': 'playlist', 'uri': 'spotify:playlist:2VMjThHK1sv6Ejv3VXzNGI'}, {'collaborative': False, 'description': '', 'external_urls': {'spotify': 'https://open.spotify.com/playlist/3dEwDA7uPGx6T2gYAtQg5X'}, 'href': 'https://api.spotify.com/v1/playlists/3dEwDA7uPGx6T2gYAtQg5X', 'id': '3dEwDA7uPGx6T2gYAtQg5X', 'images': [{'height': 640, 'url': 'https://mosaic.scdn.co/640/ab67616d0000b2734814eaa84afa43b3327cbce9ab67616d0000b2738478600ed55aaac6bd092618ab67616d0000b2738edd8e6a77eb276268f1315bab67616d0000b273dc20397b139223620af148f6', 'width': 640}, {'height': 300, 'url': 'https://mosaic.scdn.co/300/ab67616d0000b2734814eaa84afa43b3327cbce9ab67616d0000b2738478600ed55aaac6bd092618ab67616d0000b2738edd8e6a77eb276268f1315bab67616d0000b273dc20397b139223620af148f6', 'width': 300}, {'height': 60, 'url': 'https://mosaic.scdn.co/60/ab67616d0000b2734814eaa84afa43b3327cbce9ab67616d0000b2738478600ed55aaac6bd092618ab67616d0000b2738edd8e6a77eb276268f1315bab67616d0000b273dc20397b139223620af148f6', 'width': 60}], 'name': 'TimeTronica', 'owner': {'display_name': 'Juan Fernando Soto Rodriguez', 'external_urls': {'spotify': 'https://open.spotify.com/user/jufersoto'}, 'href': 'https://api.spotify.com/v1/users/jufersoto', 'id': 'jufersoto', 'type': 'user', 'uri': 'spotify:user:jufersoto'}, 'primary_color': None, 'public': True, 'snapshot_id': 'OTIsMGJhYThlMzhmMjRkMjkxMTJmZjA3ZDU1Zjc3YWE4NzNhNDYwM2EyOQ==', 'tracks': {'href': 'https://api.spotify.com/v1/playlists/3dEwDA7uPGx6T2gYAtQg5X/tracks', 'total': 86}, 'type': 'playlist', 'uri': 'spotify:playlist:3dEwDA7uPGx6T2gYAtQg5X'}, {'collaborative': False, 'description': '', 'external_urls': {'spotify': 'https://open.spotify.com/playlist/1ecpClSX8qJFLWeYAs06qI'}, 'href': 'https://api.spotify.com/v1/playlists/1ecpClSX8qJFLWeYAs06qI', 'id': '1ecpClSX8qJFLWeYAs06qI', 'images': [{'height': 640, 'url': 'https://mosaic.scdn.co/640/ab67616d0000b2730e4dd74ffd2bc3c364a8adfdab67616d0000b2739c00e1641e616d619127e8b3ab67616d0000b273b760d33bf5c940e64dccf56eab67616d0000b273e7ec253a05ed1a3175124105', 'width': 640}, {'height': 300, 'url': 'https://mosaic.scdn.co/300/ab67616d0000b2730e4dd74ffd2bc3c364a8adfdab67616d0000b2739c00e1641e616d619127e8b3ab67616d0000b273b760d33bf5c940e64dccf56eab67616d0000b273e7ec253a05ed1a3175124105', 'width': 300}, {'height': 60, 'url': 'https://mosaic.scdn.co/60/ab67616d0000b2730e4dd74ffd2bc3c364a8adfdab67616d0000b2739c00e1641e616d619127e8b3ab67616d0000b273b760d33bf5c940e64dccf56eab67616d0000b273e7ec253a05ed1a3175124105', 'width': 60}], 'name': 'A Andrés Cepeda le gusta esto', 'owner': {'display_name': 'Juan Fernando Soto Rodriguez', 'external_urls': {'spotify': 'https://open.spotify.com/user/jufersoto'}, 'href': 'https://api.spotify.com/v1/users/jufersoto', 'id': 'jufersoto', 'type': 'user', 'uri': 'spotify:user:jufersoto'}, 'primary_color': None, 'public': True, 'snapshot_id': 'MjE2LDNiMmI5YTk5MTBkZmZjOTExNTQ2ZDBlYmE1YjExZGYzN2JmMWZhNGM=', 'tracks': {'href': 'https://api.spotify.com/v1/playlists/1ecpClSX8qJFLWeYAs06qI/tracks', 'total': 208}, 'type': 'playlist', 'uri': 'spotify:playlist:1ecpClSX8qJFLWeYAs06qI'}, {'collaborative': False, 'description': '', 'external_urls': {'spotify': 'https://open.spotify.com/playlist/3uEGSzo2eSrPU4ISvUS0s1'}, 'href': 'https://api.spotify.com/v1/playlists/3uEGSzo2eSrPU4ISvUS0s1', 'id': '3uEGSzo2eSrPU4ISvUS0s1', 'images': [{'height': 640, 'url': 'https://mosaic.scdn.co/640/ab67616d0000b273211c900efeac280d3301e912ab67616d0000b273395734c8512bd160c6ee3f56ab67616d0000b27357e2c2e9520c20ce31101189ab67616d0000b273f289327ca505f7acc3a3a72f', 'width': 640}, {'height': 300, 'url': 'https://mosaic.scdn.co/300/ab67616d0000b273211c900efeac280d3301e912ab67616d0000b273395734c8512bd160c6ee3f56ab67616d0000b27357e2c2e9520c20ce31101189ab67616d0000b273f289327ca505f7acc3a3a72f', 'width': 300}, {'height': 60, 'url': 'https://mosaic.scdn.co/60/ab67616d0000b273211c900efeac280d3301e912ab67616d0000b273395734c8512bd160c6ee3f56ab67616d0000b27357e2c2e9520c20ce31101189ab67616d0000b273f289327ca505f7acc3a3a72f', 'width': 60}], 'name': 'De guitarras y voces', 'owner': {'display_name': 'Juan Fernando Soto Rodriguez', 'external_urls': {'spotify': 'https://open.spotify.com/user/jufersoto'}, 'href': 'https://api.spotify.com/v1/users/jufersoto', 'id': 'jufersoto', 'type': 'user', 'uri': 'spotify:user:jufersoto'}, 'primary_color': None, 'public': True, 'snapshot_id': 'MTg0LGUwNTM2NGMxZDQ0NGQ3NTAyMDg3NjhkZjdjYzBiN2RlMTFjNzBhMWY=', 'tracks': {'href': 'https://api.spotify.com/v1/playlists/3uEGSzo2eSrPU4ISvUS0s1/tracks', 'total': 180}, 'type': 'playlist', 'uri': 'spotify:playlist:3uEGSzo2eSrPU4ISvUS0s1'}, {'collaborative': False, 'description': '', 'external_urls': {'spotify': 'https://open.spotify.com/playlist/40lb5Y9RUt8sgXjTjssacW'}, 'href': 'https://api.spotify.com/v1/playlists/40lb5Y9RUt8sgXjTjssacW', 'id': '40lb5Y9RUt8sgXjTjssacW', 'images': [{'height': 640, 'url': 'https://mosaic.scdn.co/640/ab67616d0000b273395734c8512bd160c6ee3f56ab67616d0000b2733c4ae9ba87d6c7a1f90754e1ab67616d0000b27344fc111787f221cf5629a2b9ab67616d0000b27360fbacf85489672c5e5e5321', 'width': 640}, {'height': 300, 'url': 'https://mosaic.scdn.co/300/ab67616d0000b273395734c8512bd160c6ee3f56ab67616d0000b2733c4ae9ba87d6c7a1f90754e1ab67616d0000b27344fc111787f221cf5629a2b9ab67616d0000b27360fbacf85489672c5e5e5321', 'width': 300}, {'height': 60, 'url': 'https://mosaic.scdn.co/60/ab67616d0000b273395734c8512bd160c6ee3f56ab67616d0000b2733c4ae9ba87d6c7a1f90754e1ab67616d0000b27344fc111787f221cf5629a2b9ab67616d0000b27360fbacf85489672c5e5e5321', 'width': 60}], 'name': 'Cowboy', 'owner': {'display_name': 'Juan Fernando Soto Rodriguez', 'external_urls': {'spotify': 'https://open.spotify.com/user/jufersoto'}, 'href': 'https://api.spotify.com/v1/users/jufersoto', 'id': 'jufersoto', 'type': 'user', 'uri': 'spotify:user:jufersoto'}, 'primary_color': None, 'public': True, 'snapshot_id': 'MjA5LDJkMDJmNzE2NzE5Y2I3ZDUwMWIzY2Y1ZTg4YTBjYzk5OTg3NWYxYWY=', 'tracks': {'href': 'https://api.spotify.com/v1/playlists/40lb5Y9RUt8sgXjTjssacW/tracks', 'total': 203}, 'type': 'playlist', 'uri': 'spotify:playlist:40lb5Y9RUt8sgXjTjssacW'}, {'collaborative': False, 'description': '', 'external_urls': {'spotify': 'https://open.spotify.com/playlist/4Gm8EU1gQmCYnLre2BxssS'}, 'href': 'https://api.spotify.com/v1/playlists/4Gm8EU1gQmCYnLre2BxssS', 'id': '4Gm8EU1gQmCYnLre2BxssS', 'images': [{'height': 640, 'url': 'https://mosaic.scdn.co/640/ab67616d0000b2730e4dd74ffd2bc3c364a8adfdab67616d0000b2731fd058d116cdf1745e5f8c99ab67616d0000b27357e2c2e9520c20ce31101189ab67616d0000b273f05f2e283a0928ecc7e1e359', 'width': 640}, {'height': 300, 'url': 'https://mosaic.scdn.co/300/ab67616d0000b2730e4dd74ffd2bc3c364a8adfdab67616d0000b2731fd058d116cdf1745e5f8c99ab67616d0000b27357e2c2e9520c20ce31101189ab67616d0000b273f05f2e283a0928ecc7e1e359', 'width': 300}, {'height': 60, 'url': 'https://mosaic.scdn.co/60/ab67616d0000b2730e4dd74ffd2bc3c364a8adfdab67616d0000b2731fd058d116cdf1745e5f8c99ab67616d0000b27357e2c2e9520c20ce31101189ab67616d0000b273f05f2e283a0928ecc7e1e359', 'width': 60}], 'name': 'Deep in Rain', 'owner': {'display_name': 'Juan Fernando Soto Rodriguez', 'external_urls': {'spotify': 'https://open.spotify.com/user/jufersoto'}, 'href': 'https://api.spotify.com/v1/users/jufersoto', 'id': 'jufersoto', 'type': 'user', 'uri': 'spotify:user:jufersoto'}, 'primary_color': None, 'public': True, 'snapshot_id': 'MTAwLDhkNTJmNWEyZGYzOTVmNmE4YWJhMWY4ODdiNjhiYTk2NWQzN2NiYzg=', 'tracks': {'href': 'https://api.spotify.com/v1/playlists/4Gm8EU1gQmCYnLre2BxssS/tracks', 'total': 96}, 'type': 'playlist', 'uri': 'spotify:playlist:4Gm8EU1gQmCYnLre2BxssS'}, {'collaborative': False, 'description': '', 'external_urls': {'spotify': 'https://open.spotify.com/playlist/3ypAKtDdAmXyGlveDDAQ4n'}, 'href': 'https://api.spotify.com/v1/playlists/3ypAKtDdAmXyGlveDDAQ4n', 'id': '3ypAKtDdAmXyGlveDDAQ4n', 'images': [{'height': 640, 'url': 'https://mosaic.scdn.co/640/ab67616d0000b273217d281c8c2c749910d672ceab67616d0000b2734814eaa84afa43b3327cbce9ab67616d0000b27353f776b836cbed3a9a4bf161ab67616d0000b273cd07cdbe4b041324103c0f08', 'width': 640}, {'height': 300, 'url': 'https://mosaic.scdn.co/300/ab67616d0000b273217d281c8c2c749910d672ceab67616d0000b2734814eaa84afa43b3327cbce9ab67616d0000b27353f776b836cbed3a9a4bf161ab67616d0000b273cd07cdbe4b041324103c0f08', 'width': 300}, {'height': 60, 'url': 'https://mosaic.scdn.co/60/ab67616d0000b273217d281c8c2c749910d672ceab67616d0000b2734814eaa84afa43b3327cbce9ab67616d0000b27353f776b836cbed3a9a4bf161ab67616d0000b273cd07cdbe4b041324103c0f08', 'width': 60}], 'name': 'Sun is shinning', 'owner': {'display_name': 'Juan Fernando Soto Rodriguez', 'external_urls': {'spotify': 'https://open.spotify.com/user/jufersoto'}, 'href': 'https://api.spotify.com/v1/users/jufersoto', 'id': 'jufersoto', 'type': 'user', 'uri': 'spotify:user:jufersoto'}, 'primary_color': None, 'public': True, 'snapshot_id': 'MTAxLDI4YTI3MWJiZjBhZjcwZTc2YzY4MzBkMGE1MjAyZmM1Y2Q4MzQ1ZDI=', 'tracks': {'href': 'https://api.spotify.com/v1/playlists/3ypAKtDdAmXyGlveDDAQ4n/tracks', 'total': 93}, 'type': 'playlist', 'uri': 'spotify:playlist:3ypAKtDdAmXyGlveDDAQ4n'}, {'collaborative': False, 'description': '', 'external_urls': {'spotify': 'https://open.spotify.com/playlist/35fl5mgKBuDIv2kHgXWZGU'}, 'href': 'https://api.spotify.com/v1/playlists/35fl5mgKBuDIv2kHgXWZGU', 'id': '35fl5mgKBuDIv2kHgXWZGU', 'images': [{'height': 640, 'url': 'https://mosaic.scdn.co/640/ab67616d0000b273217d281c8c2c749910d672ceab67616d0000b27340da74331c45f848b2090f4dab67616d0000b273617e5ff7e15308039a2e690eab67616d0000b273e7ec253a05ed1a3175124105', 'width': 640}, {'height': 300, 'url': 'https://mosaic.scdn.co/300/ab67616d0000b273217d281c8c2c749910d672ceab67616d0000b27340da74331c45f848b2090f4dab67616d0000b273617e5ff7e15308039a2e690eab67616d0000b273e7ec253a05ed1a3175124105', 'width': 300}, {'height': 60, 'url': 'https://mosaic.scdn.co/60/ab67616d0000b273217d281c8c2c749910d672ceab67616d0000b27340da74331c45f848b2090f4dab67616d0000b273617e5ff7e15308039a2e690eab67616d0000b273e7ec253a05ed1a3175124105', 'width': 60}], 'name': 'Guapachoso', 'owner': {'display_name': 'Juan Fernando Soto Rodriguez', 'external_urls': {'spotify': 'https://open.spotify.com/user/jufersoto'}, 'href': 'https://api.spotify.com/v1/users/jufersoto', 'id': 'jufersoto', 'type': 'user', 'uri': 'spotify:user:jufersoto'}, 'primary_color': None, 'public': True, 'snapshot_id': 'MTkxLDI4ZGZjMjQ3YzJhZTEyMDc4ODNkYTM2NjRmMDYwOTc3NWE4ZTA4MzU=', 'tracks': {'href': 'https://api.spotify.com/v1/playlists/35fl5mgKBuDIv2kHgXWZGU/tracks', 'total': 187}, 'type': 'playlist', 'uri': 'spotify:playlist:35fl5mgKBuDIv2kHgXWZGU'}, {'collaborative': False, 'description': 'Spotify Wrapped presents the songs that you loved most this year.', 'external_urls': {'spotify': 'https://open.spotify.com/playlist/37i9dQZF1F0sijgNaJdgit'}, 'href': 'https://api.spotify.com/v1/playlists/37i9dQZF1F0sijgNaJdgit', 'id': '37i9dQZF1F0sijgNaJdgit', 'images': [{'height': None, 'url': 'https://wrapped-images.spotifycdn.com/image/yts-2022/large/your-top-songs-2022_large_en.jpg', 'width': None}], 'name': 'Your Top Songs 2022', 'owner': {'display_name': 'Spotify', 'external_urls': {'spotify': 'https://open.spotify.com/user/spotify'}, 'href': 'https://api.spotify.com/v1/users/spotify', 'id': 'spotify', 'type': 'user', 'uri': 'spotify:user:spotify'}, 'primary_color': None, 'public': False, 'snapshot_id': 'MTY2OTkwODk2MiwwMDAwMDAwMGExMjYwYjE4NmU4YjYyOWU1MWRjOTdiMDQ3M2NhYjI1', 'tracks': {'href': 'https://api.spotify.com/v1/playlists/37i9dQZF1F0sijgNaJdgit/tracks', 'total': 101}, 'type': 'playlist', 'uri': 'spotify:playlist:37i9dQZF1F0sijgNaJdgit'}, {'collaborative': False, 'description': '', 'external_urls': {'spotify': 'https://open.spotify.com/playlist/6WYJwb0GNfQxjEcRior31d'}, 'href': 'https://api.spotify.com/v1/playlists/6WYJwb0GNfQxjEcRior31d', 'id': '6WYJwb0GNfQxjEcRior31d', 'images': [{'height': 640, 'url': 'https://mosaic.scdn.co/640/ab67616d0000b2733359fc801bfe317cbf10fc0aab67616d0000b2739b6d8b4a468f71b2e68e67b8ab67616d0000b273da0f643953ddc289eaec9ac7ab67616d0000b273da9689ac6b98decdafcfc295', 'width': 640}, {'height': 300, 'url': 'https://mosaic.scdn.co/300/ab67616d0000b2733359fc801bfe317cbf10fc0aab67616d0000b2739b6d8b4a468f71b2e68e67b8ab67616d0000b273da0f643953ddc289eaec9ac7ab67616d0000b273da9689ac6b98decdafcfc295', 'width': 300}, {'height': 60, 'url': 'https://mosaic.scdn.co/60/ab67616d0000b2733359fc801bfe317cbf10fc0aab67616d0000b2739b6d8b4a468f71b2e68e67b8ab67616d0000b273da0f643953ddc289eaec9ac7ab67616d0000b273da9689ac6b98decdafcfc295', 'width': 60}], 'name': ' BeBop Jazz Essentials', 'owner': {'display_name': 'raúlmoreno', 'external_urls': {'spotify': 'https://open.spotify.com/user/ra%C3%BAlmoreno'}, 'href': 'https://api.spotify.com/v1/users/ra%C3%BAlmoreno', 'id': 'raúlmoreno', 'type': 'user', 'uri': 'spotify:user:ra%C3%BAlmoreno'}, 'primary_color': None, 'public': False, 'snapshot_id': 'MzYsYmZkMWQwY2I0YjY2MmIxNTA0NTE3ZWMzYzgxNThlZjA1N2ZmYWY4Yg==', 'tracks': {'href': 'https://api.spotify.com/v1/playlists/6WYJwb0GNfQxjEcRior31d/tracks', 'total': 220}, 'type': 'playlist', 'uri': 'spotify:playlist:6WYJwb0GNfQxjEcRior31d'}, {'collaborative': False, 'description': '<a href=spotify:playlist:37i9dQZF1EIXhji1O9V2wL>Patricio Rey y sus Redonditos de Ricota</a>, <a href=spotify:playlist:37i9dQZF1EIZzoTaeEagqT>Diamante Eléctrico</a>, <a href=spotify:playlist:37i9dQZF1EIUG658Ucz99Q>Los Bunkers</a> and more', 'external_urls': {'spotify': 'https://open.spotify.com/playlist/37i9dQZF1EQpj7X7UK8OOF'}, 'href': 'https://api.spotify.com/v1/playlists/37i9dQZF1EQpj7X7UK8OOF', 'id': '37i9dQZF1EQpj7X7UK8OOF', 'images': [{'height': None, 'url': 'https://seed-mix-image.spotifycdn.com/v6/img/rock/6byQKddO1b34lXC2ZEjehQ/en/large', 'width': None}], 'name': 'Rock Mix', 'owner': {'display_name': 'Spotify', 'external_urls': {'spotify': 'https://open.spotify.com/user/spotify'}, 'href': 'https://api.spotify.com/v1/users/spotify', 'id': 'spotify', 'type': 'user', 'uri': 'spotify:user:spotify'}, 'primary_color': None, 'public': False, 'snapshot_id': 'MTY4NTUxMjgwMCwwMDAwMDAwMDY1ZWM1NDg5YTAyNDI0NDkyYjcxYTM2NzY1YWFhN2Iw', 'tracks': {'href': 'https://api.spotify.com/v1/playlists/37i9dQZF1EQpj7X7UK8OOF/tracks', 'total': 50}, 'type': 'playlist', 'uri': 'spotify:playlist:37i9dQZF1EQpj7X7UK8OOF'}, {'collaborative': False, 'description': '', 'external_urls': {'spotify': 'https://open.spotify.com/playlist/5INYOZBQAUAjpZhT2REdvF'}, 'href': 'https://api.spotify.com/v1/playlists/5INYOZBQAUAjpZhT2REdvF', 'id': '5INYOZBQAUAjpZhT2REdvF', 'images': [{'height': None, 'url': 'https://i.scdn.co/image/ab67706c0000bebbb55660d52254371bba7e0b33', 'width': None}], 'name': '⇟ Perreo ⇟', 'owner': {'display_name': 'Sebastián Mora', 'external_urls': {'spotify': 'https://open.spotify.com/user/gsj3xmv3wldx18pkh8jfdaw5r'}, 'href': 'https://api.spotify.com/v1/users/gsj3xmv3wldx18pkh8jfdaw5r', 'id': 'gsj3xmv3wldx18pkh8jfdaw5r', 'type': 'user', 'uri': 'spotify:user:gsj3xmv3wldx18pkh8jfdaw5r'}, 'primary_color': None, 'public': False, 'snapshot_id': 'MjMwLGFiZjg3Y2QxMmZjZDhkMDc3YTU0YTY3Y2MyYjQ3Y2ZiODJhYWRkZGM=', 'tracks': {'href': 'https://api.spotify.com/v1/playlists/5INYOZBQAUAjpZhT2REdvF/tracks', 'total': 165}, 'type': 'playlist', 'uri': 'spotify:playlist:5INYOZBQAUAjpZhT2REdvF'}, {'collaborative': False, 'description': 'El género cubano cantable y bailable por excelencia.', 'external_urls': {'spotify': 'https://open.spotify.com/playlist/37i9dQZF1DWV5sGFwUJeqR'}, 'href': 'https://api.spotify.com/v1/playlists/37i9dQZF1DWV5sGFwUJeqR', 'id': '37i9dQZF1DWV5sGFwUJeqR', 'images': [{'height': None, 'url': 'https://i.scdn.co/image/ab67706f00000003ac06b4239ccd4e7efeef98f4', 'width': None}], 'name': '¡Guajira!', 'owner': {'display_name': 'Spotify', 'external_urls': {'spotify': 'https://open.spotify.com/user/spotify'}, 'href': 'https://api.spotify.com/v1/users/spotify', 'id': 'spotify', 'type': 'user', 'uri': 'spotify:user:spotify'}, 'primary_color': None, 'public': False, 'snapshot_id': 'MTY0ODc0NDcyMSwwMDAwMDAwMDhmZTlhYTgzOTg1MmIyMmQzM2EyYmZkZGQ2OGQ3ZTdl', 'tracks': {'href': 'https://api.spotify.com/v1/playlists/37i9dQZF1DWV5sGFwUJeqR/tracks', 'total': 50}, 'type': 'playlist', 'uri': 'spotify:playlist:37i9dQZF1DWV5sGFwUJeqR'}, {'collaborative': False, 'description': '', 'external_urls': {'spotify': 'https://open.spotify.com/playlist/0bNSPrDRY4lZiO2FFjQAGs'}, 'href': 'https://api.spotify.com/v1/playlists/0bNSPrDRY4lZiO2FFjQAGs', 'id': '0bNSPrDRY4lZiO2FFjQAGs', 'images': [{'height': 640, 'url': 'https://mosaic.scdn.co/640/ab67616d0000b27352ce1370223e498d7da83dfeab67616d0000b273816d4cdb70772e0d00a35cc2ab67616d0000b2739c3918baf765a97898d8469dab67616d0000b273d3da07c89bba0aac65a32ada', 'width': 640}, {'height': 300, 'url': 'https://mosaic.scdn.co/300/ab67616d0000b27352ce1370223e498d7da83dfeab67616d0000b273816d4cdb70772e0d00a35cc2ab67616d0000b2739c3918baf765a97898d8469dab67616d0000b273d3da07c89bba0aac65a32ada', 'width': 300}, {'height': 60, 'url': 'https://mosaic.scdn.co/60/ab67616d0000b27352ce1370223e498d7da83dfeab67616d0000b273816d4cdb70772e0d00a35cc2ab67616d0000b2739c3918baf765a97898d8469dab67616d0000b273d3da07c89bba0aac65a32ada', 'width': 60}], 'name': '#VuelveMelendiMarihuano', 'owner': {'display_name': 'Sebastián Mora', 'external_urls': {'spotify': 'https://open.spotify.com/user/gsj3xmv3wldx18pkh8jfdaw5r'}, 'href': 'https://api.spotify.com/v1/users/gsj3xmv3wldx18pkh8jfdaw5r', 'id': 'gsj3xmv3wldx18pkh8jfdaw5r', 'type': 'user', 'uri': 'spotify:user:gsj3xmv3wldx18pkh8jfdaw5r'}, 'primary_color': None, 'public': False, 'snapshot_id': 'MTEwLDJkMzdlZmRjMDgwMTBkNDhlMmMxNDQ3ZjA1ZDg2NTEwY2UzN2FlYzc=', 'tracks': {'href': 'https://api.spotify.com/v1/playlists/0bNSPrDRY4lZiO2FFjQAGs/tracks', 'total': 70}, 'type': 'playlist', 'uri': 'spotify:playlist:0bNSPrDRY4lZiO2FFjQAGs'}, {'collaborative': False, 'description': 'This is Tego Calderón. The essential tracks, all in one playlist.', 'external_urls': {'spotify': 'https://open.spotify.com/playlist/37i9dQZF1DZ06evO2gu6S4'}, 'href': 'https://api.spotify.com/v1/playlists/37i9dQZF1DZ06evO2gu6S4', 'id': '37i9dQZF1DZ06evO2gu6S4', 'images': [{'height': None, 'url': 'https://thisis-images.scdn.co/37i9dQZF1DZ06evO2gu6S4-large.jpg', 'width': None}], 'name': 'This Is Tego Calderón', 'owner': {'display_name': 'Spotify', 'external_urls': {'spotify': 'https://open.spotify.com/user/spotify'}, 'href': 'https://api.spotify.com/v1/users/spotify', 'id': 'spotify', 'type': 'user', 'uri': 'spotify:user:spotify'}, 'primary_color': None, 'public': False, 'snapshot_id': 'MjgwOTIyOTAsMDAwMDAwMDBlYWM5OTQ2ZWI2ZWVmMzdiY2RmN2Q2MWI3ZDgwZDViZA==', 'tracks': {'href': 'https://api.spotify.com/v1/playlists/37i9dQZF1DZ06evO2gu6S4/tracks', 'total': 50}, 'type': 'playlist', 'uri': 'spotify:playlist:37i9dQZF1DZ06evO2gu6S4'}, {'collaborative': False, 'description': '¡De Colombia para el mundo! Foto: TIMØ y Bacilos', 'external_urls': {'spotify': 'https://open.spotify.com/playlist/37i9dQZF1DX3O0tIbqe92W'}, 'href': 'https://api.spotify.com/v1/playlists/37i9dQZF1DX3O0tIbqe92W', 'id': '37i9dQZF1DX3O0tIbqe92W', 'images': [{'height': None, 'url': 'https://i.scdn.co/image/ab67706f00000003b80619bdb45d0f9846268c36', 'width': None}], 'name': 'Esto Es Tropipop', 'owner': {'display_name': 'Spotify', 'external_urls': {'spotify': 'https://open.spotify.com/user/spotify'}, 'href': 'https://api.spotify.com/v1/users/spotify', 'id': 'spotify', 'type': 'user', 'uri': 'spotify:user:spotify'}, 'primary_color': None, 'public': False, 'snapshot_id': 'MTY3NjMzMDQ0MCwwMDAwMDAwMGJhYWMzM2JjOThjZTA2YWRmNDVhMmRkZDU4ZjNhODhh', 'tracks': {'href': 'https://api.spotify.com/v1/playlists/37i9dQZF1DX3O0tIbqe92W/tracks', 'total': 70}, 'type': 'playlist', 'uri': 'spotify:playlist:37i9dQZF1DX3O0tIbqe92W'}, {'collaborative': False, 'description': '¡Nada le gana a una comida hecha con buena salsa!', 'external_urls': {'spotify': 'https://open.spotify.com/playlist/37i9dQZF1DWVWDeQ3zOW6J'}, 'href': 'https://api.spotify.com/v1/playlists/37i9dQZF1DWVWDeQ3zOW6J', 'id': '37i9dQZF1DWVWDeQ3zOW6J', 'images': [{'height': None, 'url': 'https://i.scdn.co/image/ab67706f000000032dab10bcc88b0c1504d597a6', 'width': None}], 'name': 'Cocina con Salsa', 'owner': {'display_name': 'Spotify', 'external_urls': {'spotify': 'https://open.spotify.com/user/spotify'}, 'href': 'https://api.spotify.com/v1/users/spotify', 'id': 'spotify', 'type': 'user', 'uri': 'spotify:user:spotify'}, 'primary_color': None, 'public': False, 'snapshot_id': 'MTY3NjMyODk1MCwwMDAwMDAwMGRjMGJmN2FkMzMyNThkNDU4MmZkZGRjYmJkOWMwOGRm', 'tracks': {'href': 'https://api.spotify.com/v1/playlists/37i9dQZF1DWVWDeQ3zOW6J/tracks', 'total': 60}, 'type': 'playlist', 'uri': 'spotify:playlist:37i9dQZF1DWVWDeQ3zOW6J'}, {'collaborative': False, 'description': '', 'external_urls': {'spotify': 'https://open.spotify.com/playlist/37i9dQZF1E4pH1sxNZ1bxa'}, 'href': 'https://api.spotify.com/v1/playlists/37i9dQZF1E4pH1sxNZ1bxa', 'id': '37i9dQZF1E4pH1sxNZ1bxa', 'images': [{'height': None, 'url': 'https://seeded-session-images.scdn.co/v1/img/artist/7yUFtMptVtCtg3vIR018vO/en', 'width': None}], 'name': 'Pirulo y la Tribu Radio', 'owner': {'display_name': 'Spotify', 'external_urls': {'spotify': 'https://open.spotify.com/user/spotify'}, 'href': 'https://api.spotify.com/v1/users/spotify', 'id': 'spotify', 'type': 'user', 'uri': 'spotify:user:spotify'}, 'primary_color': None, 'public': False, 'snapshot_id': 'MTY4NTU4ODM5NywwMDAwMDAwMDUwYmY5OTlmNDA2YzAyOTlkZjdkNDA4ZmMzYjMyNmMy', 'tracks': {'href': 'https://api.spotify.com/v1/playlists/37i9dQZF1E4pH1sxNZ1bxa/tracks', 'total': 50}, 'type': 'playlist', 'uri': 'spotify:playlist:37i9dQZF1E4pH1sxNZ1bxa'}, {'collaborative': False, 'description': '<a href=spotify:playlist:37i9dQZF1EIWHQdfsYl5Tn>La Derecha</a>, <a href=spotify:playlist:37i9dQZF1EIVK0P68aqI1h>Katamaran</a> et <a href=spotify:playlist:37i9dQZF1EIYNZWSSwHFUM>Ekhymosis</a>', 'external_urls': {'spotify': 'https://open.spotify.com/playlist/37i9dQZF1EIZvfPa8ZMXbT'}, 'href': 'https://api.spotify.com/v1/playlists/37i9dQZF1EIZvfPa8ZMXbT', 'id': '37i9dQZF1EIZvfPa8ZMXbT', 'images': [{'height': None, 'url': 'https://seed-mix-image.spotifycdn.com/v6/img/artist/0MkvbIaZ8Uj2URBv8AdI1N/fr/large', 'width': None}], 'name': 'Mix\\xa0Sanalejo', 'owner': {'display_name': 'Spotify', 'external_urls': {'spotify': 'https://open.spotify.com/user/spotify'}, 'href': 'https://api.spotify.com/v1/users/spotify', 'id': 'spotify', 'type': 'user', 'uri': 'spotify:user:spotify'}, 'primary_color': None, 'public': False, 'snapshot_id': 'MCwwMDAwMDAwMDBlOWExOGYwNTQ0ZDI0Y2MyZDc4ZDBjMTU1YzIxZWIz', 'tracks': {'href': 'https://api.spotify.com/v1/playlists/37i9dQZF1EIZvfPa8ZMXbT/tracks', 'total': 50}, 'type': 'playlist', 'uri': 'spotify:playlist:37i9dQZF1EIZvfPa8ZMXbT'}, {'collaborative': False, 'description': 'Spotify Wrapped presents the songs that you loved most this year.', 'external_urls': {'spotify': 'https://open.spotify.com/playlist/37i9dQZF1EUMDoJuT8yJsl'}, 'href': 'https://api.spotify.com/v1/playlists/37i9dQZF1EUMDoJuT8yJsl', 'id': '37i9dQZF1EUMDoJuT8yJsl', 'images': [{'height': None, 'url': 'https://lineup-images.scdn.co/wrapped-2021-top100_LARGE-en.jpg', 'width': None}], 'name': 'Your Top Songs 2021', 'owner': {'display_name': 'Spotify', 'external_urls': {'spotify': 'https://open.spotify.com/user/spotify'}, 'href': 'https://api.spotify.com/v1/users/spotify', 'id': 'spotify', 'type': 'user', 'uri': 'spotify:user:spotify'}, 'primary_color': None, 'public': False, 'snapshot_id': 'MCwwMDAwMDAwMDFmZjAyOTA5NjM2ODNkYTljYWM0NTIzYmU3NDE3M2I0', 'tracks': {'href': 'https://api.spotify.com/v1/playlists/37i9dQZF1EUMDoJuT8yJsl/tracks', 'total': 100}, 'type': 'playlist', 'uri': 'spotify:playlist:37i9dQZF1EUMDoJuT8yJsl'}, {'collaborative': False, 'description': '', 'external_urls': {'spotify': 'https://open.spotify.com/playlist/0qhfMiiTUUmSPllLY9AgAx'}, 'href': 'https://api.spotify.com/v1/playlists/0qhfMiiTUUmSPllLY9AgAx', 'id': '0qhfMiiTUUmSPllLY9AgAx', 'images': [{'height': 640, 'url': 'https://mosaic.scdn.co/640/ab67616d0000b273106f4b6547a4af8be1c076a8ab67616d0000b27317273d07b2fffb88d7a49becab67616d0000b273875ca53b619a57e41bba9668ab67616d0000b2738a9ecbc19883076d80826648', 'width': 640}, {'height': 300, 'url': 'https://mosaic.scdn.co/300/ab67616d0000b273106f4b6547a4af8be1c076a8ab67616d0000b27317273d07b2fffb88d7a49becab67616d0000b273875ca53b619a57e41bba9668ab67616d0000b2738a9ecbc19883076d80826648', 'width': 300}, {'height': 60, 'url': 'https://mosaic.scdn.co/60/ab67616d0000b273106f4b6547a4af8be1c076a8ab67616d0000b27317273d07b2fffb88d7a49becab67616d0000b273875ca53b619a57e41bba9668ab67616d0000b2738a9ecbc19883076d80826648', 'width': 60}], 'name': 'San Alejo-Bonka-Bacilos-katamaran', 'owner': {'display_name': 'Camilo Garzón', 'external_urls': {'spotify': 'https://open.spotify.com/user/22fdymafjtumw4tit4ll4pfca'}, 'href': 'https://api.spotify.com/v1/users/22fdymafjtumw4tit4ll4pfca', 'id': '22fdymafjtumw4tit4ll4pfca', 'type': 'user', 'uri': 'spotify:user:22fdymafjtumw4tit4ll4pfca'}, 'primary_color': None, 'public': False, 'snapshot_id': 'ODUsMTFlYzUxMGI0NGFkMGU2N2VlMmU2NzdmYzVmYTUzNWRmYzY4ZmQzZQ==', 'tracks': {'href': 'https://api.spotify.com/v1/playlists/0qhfMiiTUUmSPllLY9AgAx/tracks', 'total': 81}, 'type': 'playlist', 'uri': 'spotify:playlist:0qhfMiiTUUmSPllLY9AgAx'}, {'collaborative': False, 'description': '<a href=spotify:playlist:37i9dQZF1EIXPLLsNPRyjb>Breakbot</a>, <a href=spotify:playlist:37i9dQZF1EIUZMI9uRnXm0>The Poets Of Rhythm</a>, <a href=spotify:playlist:37i9dQZF1EIUGRgRN2wdDR>Jamiroquai</a> and more', 'external_urls': {'spotify': 'https://open.spotify.com/playlist/37i9dQZF1EQnJyHBkXpASl'}, 'href': 'https://api.spotify.com/v1/playlists/37i9dQZF1EQnJyHBkXpASl', 'id': '37i9dQZF1EQnJyHBkXpASl', 'images': [{'height': None, 'url': 'https://seed-mix-image.spotifycdn.com/v6/img/funk/0iui2Be5CP8EWxvHYsVspL/en/large', 'width': None}], 'name': 'Funk Mix', 'owner': {'display_name': 'Spotify', 'external_urls': {'spotify': 'https://open.spotify.com/user/spotify'}, 'href': 'https://api.spotify.com/v1/users/spotify', 'id': 'spotify', 'type': 'user', 'uri': 'spotify:user:spotify'}, 'primary_color': None, 'public': False, 'snapshot_id': 'MTY4NTUxMjgwMCwwMDAwMDAwMDA3Njc0OWFkOGZiNjc4NmViYjVmOGM2NjU1Yzk1ZDE5', 'tracks': {'href': 'https://api.spotify.com/v1/playlists/37i9dQZF1EQnJyHBkXpASl/tracks', 'total': 50}, 'type': 'playlist', 'uri': 'spotify:playlist:37i9dQZF1EQnJyHBkXpASl'}, {'collaborative': False, 'description': '<a href=spotify:playlist:37i9dQZF1EIXJ3QaXKz0EY>Joe Arroyo</a>, <a href=spotify:playlist:37i9dQZF1EIYqQw6OxfLsm>Willie Colón</a>, <a href=spotify:playlist:37i9dQZF1EIVamOGk8Rg6E>Fruko Y Sus Tesos</a> and more', 'external_urls': {'spotify': 'https://open.spotify.com/playlist/37i9dQZF1EQlZ5S0kXf8kf'}, 'href': 'https://api.spotify.com/v1/playlists/37i9dQZF1EQlZ5S0kXf8kf', 'id': '37i9dQZF1EQlZ5S0kXf8kf', 'images': [{'height': None, 'url': 'https://seed-mix-image.spotifycdn.com/v6/img/salsa/7BFnoFhJjLWcsqmN3Hizqg/en/large', 'width': None}], 'name': 'Salsa Mix', 'owner': {'display_name': 'Spotify', 'external_urls': {'spotify': 'https://open.spotify.com/user/spotify'}, 'href': 'https://api.spotify.com/v1/users/spotify', 'id': 'spotify', 'type': 'user', 'uri': 'spotify:user:spotify'}, 'primary_color': None, 'public': False, 'snapshot_id': 'MTY4NTUxMjgwMCwwMDAwMDAwMDczMDg5M2Y1NDcwMjRmODE5MTk0Y2VlYTEwZTAyMGEy', 'tracks': {'href': 'https://api.spotify.com/v1/playlists/37i9dQZF1EQlZ5S0kXf8kf/tracks', 'total': 50}, 'type': 'playlist', 'uri': 'spotify:playlist:37i9dQZF1EQlZ5S0kXf8kf'}, {'collaborative': False, 'description': '<a href=spotify:playlist:37i9dQZF1EIWaYmwW83Mxq>Cesar Mora</a>, <a href=spotify:playlist:37i9dQZF1EIWPKGiUwUaZI>Maite Hontelé</a> et <a href=spotify:playlist:37i9dQZF1EIWIzL2KSkFNa>Andy Montañez</a>', 'external_urls': {'spotify': 'https://open.spotify.com/playlist/37i9dQZF1EIZOrwBcqcyhq'}, 'href': 'https://api.spotify.com/v1/playlists/37i9dQZF1EIZOrwBcqcyhq', 'id': '37i9dQZF1EIZOrwBcqcyhq', 'images': [{'height': None, 'url': 'https://seed-mix-image.spotifycdn.com/v6/img/artist/1Y2yzHPbBWZouNYTOGFq7u/fr/large', 'width': None}], 'name': 'Mix\\xa0La-33', 'owner': {'display_name': 'Spotify', 'external_urls': {'spotify': 'https://open.spotify.com/user/spotify'}, 'href': 'https://api.spotify.com/v1/users/spotify', 'id': 'spotify', 'type': 'user', 'uri': 'spotify:user:spotify'}, 'primary_color': None, 'public': False, 'snapshot_id': 'MCwwMDAwMDAwMGFhY2I3ZTNiZjhhYzRlZWZhYjRiM2NkMzcxZWUyYmU1', 'tracks': {'href': 'https://api.spotify.com/v1/playlists/37i9dQZF1EIZOrwBcqcyhq/tracks', 'total': 50}, 'type': 'playlist', 'uri': 'spotify:playlist:37i9dQZF1EIZOrwBcqcyhq'}]\n"
          ]
        }
      ],
      "source": [
        "playlists = sp.user_playlists(username)\n",
        "print(playlists['items'])\n",
        "# Toma los datos, pero la primera vez ayuda con la autorizacion de usuario"
      ]
    },
    {
      "cell_type": "markdown",
      "metadata": {
        "id": "T_NDy_byrvI-"
      },
      "source": [
        "## Sacar los datos de las playlists y las características de las canciones directamente de Spotify"
      ]
    },
    {
      "cell_type": "code",
      "execution_count": null,
      "metadata": {
        "id": "KfPHd4PD_pml"
      },
      "outputs": [],
      "source": [
        "# Datos de las playlists\n",
        "playlists = pd.DataFrame.from_dict(playlists)\n",
        "items = list(playlists['items'])\n",
        "items = pd.DataFrame(items)\n",
        "nombres = []\n",
        "index = []\n",
        "#objetivos = ['Hablan rapido', 'Uh lala señor francés', 'Top cross', 'Pa las caderas y el corazón', 'Tangos y boleros', 'Cumbiones', 'Iluminación', 'Canciones en ingles que me depriman o me duerman, lo que pase primero', 'Popsito', 'TimeTronica', 'A Andrés Cepeda le gusta esto', 'De guitarras y voces', 'Cowboy', 'Deep in Rain', 'Sun is shinning', 'Guapachoso']\n",
        "objetivos = ['Pa las caderas y el corazón', 'Tangos y boleros', 'Cumbiones', 'Iluminación', 'Canciones en ingles que me depriman o me duerman, lo que pase primero', 'Popsito', 'TimeTronica', 'A Andrés Cepeda le gusta esto', 'De guitarras y voces', 'Cowboy', 'Deep in Rain', 'Sun is shinning', 'Guapachoso']\n",
        "\n",
        "for i in range(len(items)):\n",
        "  if items['name'][i] in objetivos:\n",
        "    if i == playlists.index[i]:\n",
        "      nombres.append(items['name'][i])\n",
        "      index.append(i)\n",
        "      #print(str(i)+\", \"+items['name'][i])\n",
        "\n",
        "playlists_n = playlists.drop([i for i in range(len(playlists)) if i not in index])\n",
        "playlists_n['name'] = nombres\n",
        "Plts_ID = items['id']\n",
        "\n",
        "#print(playlists_n.columns)\n",
        "\n"
      ]
    },
    {
      "cell_type": "code",
      "execution_count": null,
      "metadata": {
        "id": "WerClYHA_1qT",
        "colab": {
          "base_uri": "https://localhost:8080/",
          "height": 588
        },
        "outputId": "6962d129-21e4-4828-ee58-ded8c7e33e46"
      },
      "outputs": [
        {
          "output_type": "stream",
          "name": "stderr",
          "text": [
            "ERROR:spotipy.client:Max Retries reached\n"
          ]
        },
        {
          "output_type": "error",
          "ename": "SpotifyException",
          "evalue": "ignored",
          "traceback": [
            "\u001b[0;31m---------------------------------------------------------------------------\u001b[0m",
            "\u001b[0;31mMaxRetryError\u001b[0m                             Traceback (most recent call last)",
            "\u001b[0;32m/usr/local/lib/python3.10/dist-packages/requests/adapters.py\u001b[0m in \u001b[0;36msend\u001b[0;34m(self, request, stream, timeout, verify, cert, proxies)\u001b[0m\n\u001b[1;32m    439\u001b[0m             \u001b[0;32mif\u001b[0m \u001b[0;32mnot\u001b[0m \u001b[0mchunked\u001b[0m\u001b[0;34m:\u001b[0m\u001b[0;34m\u001b[0m\u001b[0;34m\u001b[0m\u001b[0m\n\u001b[0;32m--> 440\u001b[0;31m                 resp = conn.urlopen(\n\u001b[0m\u001b[1;32m    441\u001b[0m                     \u001b[0mmethod\u001b[0m\u001b[0;34m=\u001b[0m\u001b[0mrequest\u001b[0m\u001b[0;34m.\u001b[0m\u001b[0mmethod\u001b[0m\u001b[0;34m,\u001b[0m\u001b[0;34m\u001b[0m\u001b[0;34m\u001b[0m\u001b[0m\n",
            "\u001b[0;32m/usr/local/lib/python3.10/dist-packages/urllib3/connectionpool.py\u001b[0m in \u001b[0;36murlopen\u001b[0;34m(self, method, url, body, headers, retries, redirect, assert_same_host, timeout, pool_timeout, release_conn, chunked, body_pos, **response_kw)\u001b[0m\n\u001b[1;32m    877\u001b[0m             \u001b[0mlog\u001b[0m\u001b[0;34m.\u001b[0m\u001b[0mdebug\u001b[0m\u001b[0;34m(\u001b[0m\u001b[0;34m\"Retry: %s\"\u001b[0m\u001b[0;34m,\u001b[0m \u001b[0murl\u001b[0m\u001b[0;34m)\u001b[0m\u001b[0;34m\u001b[0m\u001b[0;34m\u001b[0m\u001b[0m\n\u001b[0;32m--> 878\u001b[0;31m             return self.urlopen(\n\u001b[0m\u001b[1;32m    879\u001b[0m                 \u001b[0mmethod\u001b[0m\u001b[0;34m,\u001b[0m\u001b[0;34m\u001b[0m\u001b[0;34m\u001b[0m\u001b[0m\n",
            "\u001b[0;32m/usr/local/lib/python3.10/dist-packages/urllib3/connectionpool.py\u001b[0m in \u001b[0;36murlopen\u001b[0;34m(self, method, url, body, headers, retries, redirect, assert_same_host, timeout, pool_timeout, release_conn, chunked, body_pos, **response_kw)\u001b[0m\n\u001b[1;32m    877\u001b[0m             \u001b[0mlog\u001b[0m\u001b[0;34m.\u001b[0m\u001b[0mdebug\u001b[0m\u001b[0;34m(\u001b[0m\u001b[0;34m\"Retry: %s\"\u001b[0m\u001b[0;34m,\u001b[0m \u001b[0murl\u001b[0m\u001b[0;34m)\u001b[0m\u001b[0;34m\u001b[0m\u001b[0;34m\u001b[0m\u001b[0m\n\u001b[0;32m--> 878\u001b[0;31m             return self.urlopen(\n\u001b[0m\u001b[1;32m    879\u001b[0m                 \u001b[0mmethod\u001b[0m\u001b[0;34m,\u001b[0m\u001b[0;34m\u001b[0m\u001b[0;34m\u001b[0m\u001b[0m\n",
            "\u001b[0;32m/usr/local/lib/python3.10/dist-packages/urllib3/connectionpool.py\u001b[0m in \u001b[0;36murlopen\u001b[0;34m(self, method, url, body, headers, retries, redirect, assert_same_host, timeout, pool_timeout, release_conn, chunked, body_pos, **response_kw)\u001b[0m\n\u001b[1;32m    877\u001b[0m             \u001b[0mlog\u001b[0m\u001b[0;34m.\u001b[0m\u001b[0mdebug\u001b[0m\u001b[0;34m(\u001b[0m\u001b[0;34m\"Retry: %s\"\u001b[0m\u001b[0;34m,\u001b[0m \u001b[0murl\u001b[0m\u001b[0;34m)\u001b[0m\u001b[0;34m\u001b[0m\u001b[0;34m\u001b[0m\u001b[0m\n\u001b[0;32m--> 878\u001b[0;31m             return self.urlopen(\n\u001b[0m\u001b[1;32m    879\u001b[0m                 \u001b[0mmethod\u001b[0m\u001b[0;34m,\u001b[0m\u001b[0;34m\u001b[0m\u001b[0;34m\u001b[0m\u001b[0m\n",
            "\u001b[0;32m/usr/local/lib/python3.10/dist-packages/urllib3/connectionpool.py\u001b[0m in \u001b[0;36murlopen\u001b[0;34m(self, method, url, body, headers, retries, redirect, assert_same_host, timeout, pool_timeout, release_conn, chunked, body_pos, **response_kw)\u001b[0m\n\u001b[1;32m    867\u001b[0m             \u001b[0;32mtry\u001b[0m\u001b[0;34m:\u001b[0m\u001b[0;34m\u001b[0m\u001b[0;34m\u001b[0m\u001b[0m\n\u001b[0;32m--> 868\u001b[0;31m                 \u001b[0mretries\u001b[0m \u001b[0;34m=\u001b[0m \u001b[0mretries\u001b[0m\u001b[0;34m.\u001b[0m\u001b[0mincrement\u001b[0m\u001b[0;34m(\u001b[0m\u001b[0mmethod\u001b[0m\u001b[0;34m,\u001b[0m \u001b[0murl\u001b[0m\u001b[0;34m,\u001b[0m \u001b[0mresponse\u001b[0m\u001b[0;34m=\u001b[0m\u001b[0mresponse\u001b[0m\u001b[0;34m,\u001b[0m \u001b[0m_pool\u001b[0m\u001b[0;34m=\u001b[0m\u001b[0mself\u001b[0m\u001b[0;34m)\u001b[0m\u001b[0;34m\u001b[0m\u001b[0;34m\u001b[0m\u001b[0m\n\u001b[0m\u001b[1;32m    869\u001b[0m             \u001b[0;32mexcept\u001b[0m \u001b[0mMaxRetryError\u001b[0m\u001b[0;34m:\u001b[0m\u001b[0;34m\u001b[0m\u001b[0;34m\u001b[0m\u001b[0m\n",
            "\u001b[0;32m/usr/local/lib/python3.10/dist-packages/urllib3/util/retry.py\u001b[0m in \u001b[0;36mincrement\u001b[0;34m(self, method, url, response, error, _pool, _stacktrace)\u001b[0m\n\u001b[1;32m    591\u001b[0m         \u001b[0;32mif\u001b[0m \u001b[0mnew_retry\u001b[0m\u001b[0;34m.\u001b[0m\u001b[0mis_exhausted\u001b[0m\u001b[0;34m(\u001b[0m\u001b[0;34m)\u001b[0m\u001b[0;34m:\u001b[0m\u001b[0;34m\u001b[0m\u001b[0;34m\u001b[0m\u001b[0m\n\u001b[0;32m--> 592\u001b[0;31m             \u001b[0;32mraise\u001b[0m \u001b[0mMaxRetryError\u001b[0m\u001b[0;34m(\u001b[0m\u001b[0m_pool\u001b[0m\u001b[0;34m,\u001b[0m \u001b[0murl\u001b[0m\u001b[0;34m,\u001b[0m \u001b[0merror\u001b[0m \u001b[0;32mor\u001b[0m \u001b[0mResponseError\u001b[0m\u001b[0;34m(\u001b[0m\u001b[0mcause\u001b[0m\u001b[0;34m)\u001b[0m\u001b[0;34m)\u001b[0m\u001b[0;34m\u001b[0m\u001b[0;34m\u001b[0m\u001b[0m\n\u001b[0m\u001b[1;32m    593\u001b[0m \u001b[0;34m\u001b[0m\u001b[0m\n",
            "\u001b[0;31mMaxRetryError\u001b[0m: HTTPSConnectionPool(host='api.spotify.com', port=443): Max retries exceeded with url: /v1/audio-features/?ids=0Tq9r08MqjyXqgqeuUxpxS (Caused by ResponseError('too many 429 error responses'))",
            "\nDuring handling of the above exception, another exception occurred:\n",
            "\u001b[0;31mRetryError\u001b[0m                                Traceback (most recent call last)",
            "\u001b[0;32m/usr/local/lib/python3.10/dist-packages/spotipy/client.py\u001b[0m in \u001b[0;36m_internal_call\u001b[0;34m(self, method, url, payload, params)\u001b[0m\n\u001b[1;32m    265\u001b[0m         \u001b[0;32mtry\u001b[0m\u001b[0;34m:\u001b[0m\u001b[0;34m\u001b[0m\u001b[0;34m\u001b[0m\u001b[0m\n\u001b[0;32m--> 266\u001b[0;31m             response = self._session.request(\n\u001b[0m\u001b[1;32m    267\u001b[0m                 \u001b[0mmethod\u001b[0m\u001b[0;34m,\u001b[0m \u001b[0murl\u001b[0m\u001b[0;34m,\u001b[0m \u001b[0mheaders\u001b[0m\u001b[0;34m=\u001b[0m\u001b[0mheaders\u001b[0m\u001b[0;34m,\u001b[0m \u001b[0mproxies\u001b[0m\u001b[0;34m=\u001b[0m\u001b[0mself\u001b[0m\u001b[0;34m.\u001b[0m\u001b[0mproxies\u001b[0m\u001b[0;34m,\u001b[0m\u001b[0;34m\u001b[0m\u001b[0;34m\u001b[0m\u001b[0m\n",
            "\u001b[0;32m/usr/local/lib/python3.10/dist-packages/requests/sessions.py\u001b[0m in \u001b[0;36mrequest\u001b[0;34m(self, method, url, params, data, headers, cookies, files, auth, timeout, allow_redirects, proxies, hooks, stream, verify, cert, json)\u001b[0m\n\u001b[1;32m    528\u001b[0m         \u001b[0msend_kwargs\u001b[0m\u001b[0;34m.\u001b[0m\u001b[0mupdate\u001b[0m\u001b[0;34m(\u001b[0m\u001b[0msettings\u001b[0m\u001b[0;34m)\u001b[0m\u001b[0;34m\u001b[0m\u001b[0;34m\u001b[0m\u001b[0m\n\u001b[0;32m--> 529\u001b[0;31m         \u001b[0mresp\u001b[0m \u001b[0;34m=\u001b[0m \u001b[0mself\u001b[0m\u001b[0;34m.\u001b[0m\u001b[0msend\u001b[0m\u001b[0;34m(\u001b[0m\u001b[0mprep\u001b[0m\u001b[0;34m,\u001b[0m \u001b[0;34m**\u001b[0m\u001b[0msend_kwargs\u001b[0m\u001b[0;34m)\u001b[0m\u001b[0;34m\u001b[0m\u001b[0;34m\u001b[0m\u001b[0m\n\u001b[0m\u001b[1;32m    530\u001b[0m \u001b[0;34m\u001b[0m\u001b[0m\n",
            "\u001b[0;32m/usr/local/lib/python3.10/dist-packages/requests/sessions.py\u001b[0m in \u001b[0;36msend\u001b[0;34m(self, request, **kwargs)\u001b[0m\n\u001b[1;32m    644\u001b[0m         \u001b[0;31m# Send the request\u001b[0m\u001b[0;34m\u001b[0m\u001b[0;34m\u001b[0m\u001b[0m\n\u001b[0;32m--> 645\u001b[0;31m         \u001b[0mr\u001b[0m \u001b[0;34m=\u001b[0m \u001b[0madapter\u001b[0m\u001b[0;34m.\u001b[0m\u001b[0msend\u001b[0m\u001b[0;34m(\u001b[0m\u001b[0mrequest\u001b[0m\u001b[0;34m,\u001b[0m \u001b[0;34m**\u001b[0m\u001b[0mkwargs\u001b[0m\u001b[0;34m)\u001b[0m\u001b[0;34m\u001b[0m\u001b[0;34m\u001b[0m\u001b[0m\n\u001b[0m\u001b[1;32m    646\u001b[0m \u001b[0;34m\u001b[0m\u001b[0m\n",
            "\u001b[0;32m/usr/local/lib/python3.10/dist-packages/requests/adapters.py\u001b[0m in \u001b[0;36msend\u001b[0;34m(self, request, stream, timeout, verify, cert, proxies)\u001b[0m\n\u001b[1;32m    509\u001b[0m             \u001b[0;32mif\u001b[0m \u001b[0misinstance\u001b[0m\u001b[0;34m(\u001b[0m\u001b[0me\u001b[0m\u001b[0;34m.\u001b[0m\u001b[0mreason\u001b[0m\u001b[0;34m,\u001b[0m \u001b[0mResponseError\u001b[0m\u001b[0;34m)\u001b[0m\u001b[0;34m:\u001b[0m\u001b[0;34m\u001b[0m\u001b[0;34m\u001b[0m\u001b[0m\n\u001b[0;32m--> 510\u001b[0;31m                 \u001b[0;32mraise\u001b[0m \u001b[0mRetryError\u001b[0m\u001b[0;34m(\u001b[0m\u001b[0me\u001b[0m\u001b[0;34m,\u001b[0m \u001b[0mrequest\u001b[0m\u001b[0;34m=\u001b[0m\u001b[0mrequest\u001b[0m\u001b[0;34m)\u001b[0m\u001b[0;34m\u001b[0m\u001b[0;34m\u001b[0m\u001b[0m\n\u001b[0m\u001b[1;32m    511\u001b[0m \u001b[0;34m\u001b[0m\u001b[0m\n",
            "\u001b[0;31mRetryError\u001b[0m: HTTPSConnectionPool(host='api.spotify.com', port=443): Max retries exceeded with url: /v1/audio-features/?ids=0Tq9r08MqjyXqgqeuUxpxS (Caused by ResponseError('too many 429 error responses'))",
            "\nDuring handling of the above exception, another exception occurred:\n",
            "\u001b[0;31mSpotifyException\u001b[0m                          Traceback (most recent call last)",
            "\u001b[0;32m<ipython-input-16-5af7848d2b5a>\u001b[0m in \u001b[0;36m<cell line: 16>\u001b[0;34m()\u001b[0m\n\u001b[1;32m     15\u001b[0m \u001b[0;34m\u001b[0m\u001b[0m\n\u001b[1;32m     16\u001b[0m \u001b[0;32mfor\u001b[0m \u001b[0mk\u001b[0m \u001b[0;32min\u001b[0m \u001b[0mrange\u001b[0m\u001b[0;34m(\u001b[0m\u001b[0mlen\u001b[0m\u001b[0;34m(\u001b[0m\u001b[0mtrack_list\u001b[0m\u001b[0;34m[\u001b[0m\u001b[0;36m0\u001b[0m\u001b[0;34m]\u001b[0m\u001b[0;34m)\u001b[0m\u001b[0;34m)\u001b[0m\u001b[0;34m:\u001b[0m\u001b[0;34m\u001b[0m\u001b[0;34m\u001b[0m\u001b[0m\n\u001b[0;32m---> 17\u001b[0;31m   \u001b[0mfeatures\u001b[0m \u001b[0;34m=\u001b[0m \u001b[0msp\u001b[0m\u001b[0;34m.\u001b[0m\u001b[0maudio_features\u001b[0m\u001b[0;34m(\u001b[0m\u001b[0mtrack_list\u001b[0m\u001b[0;34m[\u001b[0m\u001b[0;36m0\u001b[0m\u001b[0;34m]\u001b[0m\u001b[0;34m[\u001b[0m\u001b[0mk\u001b[0m\u001b[0;34m]\u001b[0m\u001b[0;34m)\u001b[0m\u001b[0;34m\u001b[0m\u001b[0;34m\u001b[0m\u001b[0m\n\u001b[0m\u001b[1;32m     18\u001b[0m   \u001b[0mfeatures_list\u001b[0m\u001b[0;34m.\u001b[0m\u001b[0mappend\u001b[0m\u001b[0;34m(\u001b[0m\u001b[0mfeatures\u001b[0m\u001b[0;34m[\u001b[0m\u001b[0;36m0\u001b[0m\u001b[0;34m]\u001b[0m\u001b[0;34m)\u001b[0m\u001b[0;34m\u001b[0m\u001b[0;34m\u001b[0m\u001b[0m\n\u001b[1;32m     19\u001b[0m \u001b[0;34m\u001b[0m\u001b[0m\n",
            "\u001b[0;32m/usr/local/lib/python3.10/dist-packages/spotipy/client.py\u001b[0m in \u001b[0;36maudio_features\u001b[0;34m(self, tracks)\u001b[0m\n\u001b[1;32m   1732\u001b[0m         \u001b[0;32mif\u001b[0m \u001b[0misinstance\u001b[0m\u001b[0;34m(\u001b[0m\u001b[0mtracks\u001b[0m\u001b[0;34m,\u001b[0m \u001b[0mstr\u001b[0m\u001b[0;34m)\u001b[0m\u001b[0;34m:\u001b[0m\u001b[0;34m\u001b[0m\u001b[0;34m\u001b[0m\u001b[0m\n\u001b[1;32m   1733\u001b[0m             \u001b[0mtrackid\u001b[0m \u001b[0;34m=\u001b[0m \u001b[0mself\u001b[0m\u001b[0;34m.\u001b[0m\u001b[0m_get_id\u001b[0m\u001b[0;34m(\u001b[0m\u001b[0;34m\"track\"\u001b[0m\u001b[0;34m,\u001b[0m \u001b[0mtracks\u001b[0m\u001b[0;34m)\u001b[0m\u001b[0;34m\u001b[0m\u001b[0;34m\u001b[0m\u001b[0m\n\u001b[0;32m-> 1734\u001b[0;31m             \u001b[0mresults\u001b[0m \u001b[0;34m=\u001b[0m \u001b[0mself\u001b[0m\u001b[0;34m.\u001b[0m\u001b[0m_get\u001b[0m\u001b[0;34m(\u001b[0m\u001b[0;34m\"audio-features/?ids=\"\u001b[0m \u001b[0;34m+\u001b[0m \u001b[0mtrackid\u001b[0m\u001b[0;34m)\u001b[0m\u001b[0;34m\u001b[0m\u001b[0;34m\u001b[0m\u001b[0m\n\u001b[0m\u001b[1;32m   1735\u001b[0m         \u001b[0;32melse\u001b[0m\u001b[0;34m:\u001b[0m\u001b[0;34m\u001b[0m\u001b[0;34m\u001b[0m\u001b[0m\n\u001b[1;32m   1736\u001b[0m             \u001b[0mtlist\u001b[0m \u001b[0;34m=\u001b[0m \u001b[0;34m[\u001b[0m\u001b[0mself\u001b[0m\u001b[0;34m.\u001b[0m\u001b[0m_get_id\u001b[0m\u001b[0;34m(\u001b[0m\u001b[0;34m\"track\"\u001b[0m\u001b[0;34m,\u001b[0m \u001b[0mt\u001b[0m\u001b[0;34m)\u001b[0m \u001b[0;32mfor\u001b[0m \u001b[0mt\u001b[0m \u001b[0;32min\u001b[0m \u001b[0mtracks\u001b[0m\u001b[0;34m]\u001b[0m\u001b[0;34m\u001b[0m\u001b[0;34m\u001b[0m\u001b[0m\n",
            "\u001b[0;32m/usr/local/lib/python3.10/dist-packages/spotipy/client.py\u001b[0m in \u001b[0;36m_get\u001b[0;34m(self, url, args, payload, **kwargs)\u001b[0m\n\u001b[1;32m    321\u001b[0m             \u001b[0mkwargs\u001b[0m\u001b[0;34m.\u001b[0m\u001b[0mupdate\u001b[0m\u001b[0;34m(\u001b[0m\u001b[0margs\u001b[0m\u001b[0;34m)\u001b[0m\u001b[0;34m\u001b[0m\u001b[0;34m\u001b[0m\u001b[0m\n\u001b[1;32m    322\u001b[0m \u001b[0;34m\u001b[0m\u001b[0m\n\u001b[0;32m--> 323\u001b[0;31m         \u001b[0;32mreturn\u001b[0m \u001b[0mself\u001b[0m\u001b[0;34m.\u001b[0m\u001b[0m_internal_call\u001b[0m\u001b[0;34m(\u001b[0m\u001b[0;34m\"GET\"\u001b[0m\u001b[0;34m,\u001b[0m \u001b[0murl\u001b[0m\u001b[0;34m,\u001b[0m \u001b[0mpayload\u001b[0m\u001b[0;34m,\u001b[0m \u001b[0mkwargs\u001b[0m\u001b[0;34m)\u001b[0m\u001b[0;34m\u001b[0m\u001b[0;34m\u001b[0m\u001b[0m\n\u001b[0m\u001b[1;32m    324\u001b[0m \u001b[0;34m\u001b[0m\u001b[0m\n\u001b[1;32m    325\u001b[0m     \u001b[0;32mdef\u001b[0m \u001b[0m_post\u001b[0m\u001b[0;34m(\u001b[0m\u001b[0mself\u001b[0m\u001b[0;34m,\u001b[0m \u001b[0murl\u001b[0m\u001b[0;34m,\u001b[0m \u001b[0margs\u001b[0m\u001b[0;34m=\u001b[0m\u001b[0;32mNone\u001b[0m\u001b[0;34m,\u001b[0m \u001b[0mpayload\u001b[0m\u001b[0;34m=\u001b[0m\u001b[0;32mNone\u001b[0m\u001b[0;34m,\u001b[0m \u001b[0;34m**\u001b[0m\u001b[0mkwargs\u001b[0m\u001b[0;34m)\u001b[0m\u001b[0;34m:\u001b[0m\u001b[0;34m\u001b[0m\u001b[0;34m\u001b[0m\u001b[0m\n",
            "\u001b[0;32m/usr/local/lib/python3.10/dist-packages/spotipy/client.py\u001b[0m in \u001b[0;36m_internal_call\u001b[0;34m(self, method, url, payload, params)\u001b[0m\n\u001b[1;32m    305\u001b[0m             \u001b[0;32mexcept\u001b[0m \u001b[0;34m(\u001b[0m\u001b[0mIndexError\u001b[0m\u001b[0;34m,\u001b[0m \u001b[0mAttributeError\u001b[0m\u001b[0;34m)\u001b[0m\u001b[0;34m:\u001b[0m\u001b[0;34m\u001b[0m\u001b[0;34m\u001b[0m\u001b[0m\n\u001b[1;32m    306\u001b[0m                 \u001b[0mreason\u001b[0m \u001b[0;34m=\u001b[0m \u001b[0;32mNone\u001b[0m\u001b[0;34m\u001b[0m\u001b[0;34m\u001b[0m\u001b[0m\n\u001b[0;32m--> 307\u001b[0;31m             raise SpotifyException(\n\u001b[0m\u001b[1;32m    308\u001b[0m                 \u001b[0;36m429\u001b[0m\u001b[0;34m,\u001b[0m\u001b[0;34m\u001b[0m\u001b[0;34m\u001b[0m\u001b[0m\n\u001b[1;32m    309\u001b[0m                 \u001b[0;34m-\u001b[0m\u001b[0;36m1\u001b[0m\u001b[0;34m,\u001b[0m\u001b[0;34m\u001b[0m\u001b[0;34m\u001b[0m\u001b[0m\n",
            "\u001b[0;31mSpotifyException\u001b[0m: http status: 429, code:-1 - /v1/audio-features/?ids=0Tq9r08MqjyXqgqeuUxpxS:\n Max Retries, reason: too many 429 error responses"
          ]
        }
      ],
      "source": [
        "# Datos de las canciones\n",
        "track_list = [[],[],[],[]]\n",
        "for i in range(len(nombres)):\n",
        "  tracks = sp.playlist_tracks(Plts_ID[index[i]], offset=0, fields='items.track', additional_types=['track'])\n",
        "  tracks = tracks['items']\n",
        "  for j in range(len(tracks)):\n",
        "    track_list[0].append(tracks[j]['track']['id'])\n",
        "    track_list[1].append(nombres[i])\n",
        "    track_list[2].append(tracks[j]['track']['name'])\n",
        "    track_list[3].append(tracks[j]['track']['artists'][0]['name'])\n",
        "\n",
        "track_df = pd.DataFrame({'track_id': track_list[0], 'playlist_name': track_list[1], 'track_name': track_list[2], 'artist':track_list[3]})\n",
        "\n",
        "features_list = []\n",
        "\n",
        "for k in range(len(track_list[0])):\n",
        "  features = sp.audio_features(track_list[0][k])\n",
        "  features_list.append(features[0])\n",
        "  \n"
      ]
    },
    {
      "cell_type": "code",
      "execution_count": null,
      "metadata": {
        "id": "dDFfNfXyUUaf"
      },
      "outputs": [],
      "source": [
        "# Limpieza previa de las listas y mandarlo a un csv\n",
        "filtered_list = []\n",
        "Fila_e = []\n",
        "iteracion = 0\n",
        "for x in features_list:\n",
        "  iteracion = iteracion + 1\n",
        "  if x is not None:\n",
        "    filtered_list.append(x)\n",
        "  else:\n",
        "    Fila_e.append(iteracion)\n",
        "\n",
        "features_df = pd.DataFrame(filtered_list)\n",
        "df_concat = pd.concat([track_df, features_df], axis=1)\n",
        "\n",
        "Datos = df_concat.drop(['type', 'id', 'uri', 'track_href', 'analysis_url', 'time_signature'], axis=1)\n",
        "Datos.to_csv('Mis_canciones.csv')\n",
        " "
      ]
    },
    {
      "cell_type": "markdown",
      "metadata": {
        "id": "V-Qi5_o2XZcW"
      },
      "source": [
        "## Sacar las canciones que me gustan"
      ]
    },
    {
      "cell_type": "code",
      "execution_count": null,
      "metadata": {
        "id": "AVz1pCxDXwVw"
      },
      "outputs": [],
      "source": [
        "# Saber mis canciones\n",
        "datos_totales = []\n",
        "fav_list = []\n",
        "offset_actual = 0\n",
        "nomb_canciones = []\n",
        "nomb_artistas = []\n",
        "while len(datos_totales) < 5000:\n",
        "  Favorites = sp.current_user_saved_tracks(limit=50, offset=offset_actual)\n",
        "  \n",
        "  Favorites = Favorites['items']\n",
        "  Favorites = pd.DataFrame(Favorites)\n",
        "  if len(Favorites)==0:\n",
        "    break\n",
        "  Favorites = Favorites['track'].values\n",
        "  Fav_id = [d['id'] for d in Favorites]\n",
        "  Fav_name = [d['name'] for d in Favorites]\n",
        "  Fav_Art = [d['artists'][0]['name'] for d in Favorites]\n",
        "  nuevos_datos = Fav_id\n",
        "  \n",
        "  datos_totales += Fav_id\n",
        "  nomb_canciones += Fav_name\n",
        "  nomb_artistas += Fav_Art\n",
        "  offset_actual += len(nuevos_datos)\n",
        "  for t in range(len(Fav_id)):\n",
        "    features = sp.audio_features(Fav_id[t])\n",
        "    fav_list.append(features[0])\n",
        "\n",
        "Total_nomb = pd.DataFrame(nomb_canciones, columns=['track_name'])\n",
        "Total_art = pd.DataFrame(nomb_artistas, columns=['artist'])\n",
        "Total_id = pd.DataFrame(datos_totales, columns=['track_id'])\n",
        "Todas = pd.DataFrame(fav_list)\n",
        "#7AoROkMQpKuUsJuNzmBykU"
      ]
    },
    {
      "cell_type": "code",
      "execution_count": null,
      "metadata": {
        "id": "FMJOuINgSsFP"
      },
      "outputs": [],
      "source": [
        "\n",
        "df_junto = pd.concat([Total_id, Total_nomb, Total_art, Todas], axis=1)\n",
        "\n",
        "df_junto = df_junto.drop(['type', 'id', 'uri', 'track_href', 'analysis_url', 'time_signature'], axis=1)\n",
        "df_junto.to_csv('Todas_mis_canciones.csv')\n"
      ]
    },
    {
      "cell_type": "markdown",
      "metadata": {
        "id": "uFec8lj8sOAZ"
      },
      "source": [
        "# Revisión mejor modelo\n",
        "\n"
      ]
    },
    {
      "cell_type": "code",
      "execution_count": null,
      "metadata": {
        "id": "f7_K9B1elrSi"
      },
      "outputs": [],
      "source": [
        "#Canciones = Datos\n",
        "Canciones = pd.read_csv('Mis_canciones.csv')\n",
        "Canciones = Canciones.dropna()\n",
        "nombres = Canciones['track_name']\n",
        "\n",
        "# Selección de características y etiquetas\n",
        "X = Canciones[['danceability', 'energy', 'key', 'loudness', 'mode', 'speechiness', 'acousticness', 'instrumentalness', 'liveness', 'valence', 'tempo', 'duration_ms']]\n",
        "y = Canciones['playlist_name']\n",
        "\n",
        "# División de train y test y escalamiento\n",
        "X_train, X_test, y_train, y_test = train_test_split(X, y, random_state=46,test_size=0.3, stratify=y)\n",
        "scaler = StandardScaler()\n",
        "scaler.fit(X_train)\n",
        "X_train = scaler.transform(X_train)\n",
        "X_test = scaler.transform(X_test)\n",
        "\n",
        "\n"
      ]
    },
    {
      "cell_type": "markdown",
      "metadata": {
        "id": "DV_iBEWJTPFi"
      },
      "source": [
        "## Iteraciones de todos los modelos"
      ]
    },
    {
      "cell_type": "code",
      "execution_count": null,
      "metadata": {
        "id": "vtoYXzNdePu3",
        "colab": {
          "base_uri": "https://localhost:8080/"
        },
        "outputId": "a23e9d2e-eab7-446f-f4e2-7bcf1f7fb58a"
      },
      "outputs": [
        {
          "output_type": "stream",
          "name": "stderr",
          "text": [
            "/usr/local/lib/python3.10/dist-packages/sklearn/linear_model/_logistic.py:458: ConvergenceWarning: lbfgs failed to converge (status=1):\n",
            "STOP: TOTAL NO. of ITERATIONS REACHED LIMIT.\n",
            "\n",
            "Increase the number of iterations (max_iter) or scale the data as shown in:\n",
            "    https://scikit-learn.org/stable/modules/preprocessing.html\n",
            "Please also refer to the documentation for alternative solver options:\n",
            "    https://scikit-learn.org/stable/modules/linear_model.html#logistic-regression\n",
            "  n_iter_i = _check_optimize_result(\n",
            "/usr/local/lib/python3.10/dist-packages/sklearn/model_selection/_validation.py:378: FitFailedWarning: \n",
            "15 fits failed out of a total of 30.\n",
            "The score on these train-test partitions for these parameters will be set to nan.\n",
            "If these failures are not expected, you can try to debug them by setting error_score='raise'.\n",
            "\n",
            "Below are more details about the failures:\n",
            "--------------------------------------------------------------------------------\n",
            "15 fits failed with the following error:\n",
            "Traceback (most recent call last):\n",
            "  File \"/usr/local/lib/python3.10/dist-packages/sklearn/model_selection/_validation.py\", line 686, in _fit_and_score\n",
            "    estimator.fit(X_train, y_train, **fit_params)\n",
            "  File \"/usr/local/lib/python3.10/dist-packages/sklearn/linear_model/_logistic.py\", line 1162, in fit\n",
            "    solver = _check_solver(self.solver, self.penalty, self.dual)\n",
            "  File \"/usr/local/lib/python3.10/dist-packages/sklearn/linear_model/_logistic.py\", line 54, in _check_solver\n",
            "    raise ValueError(\n",
            "ValueError: Solver lbfgs supports only 'l2' or 'none' penalties, got l1 penalty.\n",
            "\n",
            "  warnings.warn(some_fits_failed_message, FitFailedWarning)\n",
            "/usr/local/lib/python3.10/dist-packages/sklearn/model_selection/_search.py:952: UserWarning: One or more of the test scores are non-finite: [       nan 0.15916645        nan 0.15925148        nan 0.15923371]\n",
            "  warnings.warn(\n",
            "/usr/local/lib/python3.10/dist-packages/sklearn/neural_network/_multilayer_perceptron.py:686: ConvergenceWarning: Stochastic Optimizer: Maximum iterations (1000) reached and the optimization hasn't converged yet.\n",
            "  warnings.warn(\n",
            "/usr/local/lib/python3.10/dist-packages/sklearn/neural_network/_multilayer_perceptron.py:686: ConvergenceWarning: Stochastic Optimizer: Maximum iterations (1000) reached and the optimization hasn't converged yet.\n",
            "  warnings.warn(\n",
            "/usr/local/lib/python3.10/dist-packages/sklearn/neural_network/_multilayer_perceptron.py:686: ConvergenceWarning: Stochastic Optimizer: Maximum iterations (1000) reached and the optimization hasn't converged yet.\n",
            "  warnings.warn(\n",
            "/usr/local/lib/python3.10/dist-packages/sklearn/neural_network/_multilayer_perceptron.py:686: ConvergenceWarning: Stochastic Optimizer: Maximum iterations (1000) reached and the optimization hasn't converged yet.\n",
            "  warnings.warn(\n",
            "/usr/local/lib/python3.10/dist-packages/sklearn/neural_network/_multilayer_perceptron.py:686: ConvergenceWarning: Stochastic Optimizer: Maximum iterations (1000) reached and the optimization hasn't converged yet.\n",
            "  warnings.warn(\n",
            "/usr/local/lib/python3.10/dist-packages/sklearn/neural_network/_multilayer_perceptron.py:686: ConvergenceWarning: Stochastic Optimizer: Maximum iterations (1000) reached and the optimization hasn't converged yet.\n",
            "  warnings.warn(\n",
            "/usr/local/lib/python3.10/dist-packages/sklearn/neural_network/_multilayer_perceptron.py:686: ConvergenceWarning: Stochastic Optimizer: Maximum iterations (1000) reached and the optimization hasn't converged yet.\n",
            "  warnings.warn(\n",
            "/usr/local/lib/python3.10/dist-packages/sklearn/neural_network/_multilayer_perceptron.py:686: ConvergenceWarning: Stochastic Optimizer: Maximum iterations (1000) reached and the optimization hasn't converged yet.\n",
            "  warnings.warn(\n",
            "/usr/local/lib/python3.10/dist-packages/sklearn/neural_network/_multilayer_perceptron.py:686: ConvergenceWarning: Stochastic Optimizer: Maximum iterations (1000) reached and the optimization hasn't converged yet.\n",
            "  warnings.warn(\n",
            "/usr/local/lib/python3.10/dist-packages/sklearn/neural_network/_multilayer_perceptron.py:686: ConvergenceWarning: Stochastic Optimizer: Maximum iterations (1000) reached and the optimization hasn't converged yet.\n",
            "  warnings.warn(\n",
            "/usr/local/lib/python3.10/dist-packages/sklearn/neural_network/_multilayer_perceptron.py:686: ConvergenceWarning: Stochastic Optimizer: Maximum iterations (1000) reached and the optimization hasn't converged yet.\n",
            "  warnings.warn(\n",
            "/usr/local/lib/python3.10/dist-packages/sklearn/neural_network/_multilayer_perceptron.py:686: ConvergenceWarning: Stochastic Optimizer: Maximum iterations (1000) reached and the optimization hasn't converged yet.\n",
            "  warnings.warn(\n",
            "/usr/local/lib/python3.10/dist-packages/sklearn/neural_network/_multilayer_perceptron.py:686: ConvergenceWarning: Stochastic Optimizer: Maximum iterations (1000) reached and the optimization hasn't converged yet.\n",
            "  warnings.warn(\n",
            "/usr/local/lib/python3.10/dist-packages/sklearn/neural_network/_multilayer_perceptron.py:686: ConvergenceWarning: Stochastic Optimizer: Maximum iterations (1000) reached and the optimization hasn't converged yet.\n",
            "  warnings.warn(\n"
          ]
        }
      ],
      "source": [
        "# Matriz de las iteraciones \n",
        "models = [[SVC(), RandomForestClassifier(), LogisticRegression(),KNeighborsClassifier(),MLPClassifier(max_iter=1000)],[],\n",
        "          [\"Máquina de Soporte Vectorial\", \"Random Forest\", \"Regresión Logística\", \"KNN\", \"Redes Neuronales\"]]\n",
        "\n",
        "models[1].append([{'kernel': ['rbf'], 'C': [0.1, 1, 10], 'gamma': [0.001, 0.01, 0.1]},\n",
        "                  {'kernel': ['poly'], 'C': [0.1, 1, 10], 'degree': [2, 3], 'coef0':[0, 1]}])\n",
        "models[1].append({'n_estimators': [10, 100, 1000], 'max_depth': [2, 5, 10],\n",
        "                  'min_samples_split': [2, 5, 10], 'min_samples_leaf': [1, 2, 4]})\n",
        "models[1].append({'C': [0.1, 1, 10], 'penalty': ['l1', 'l2']})\n",
        "models[1].append({'n_neighbors': [3, 5, 7], 'weights': ['uniform', 'distance'], 'p': [1, 2, 3]})\n",
        "models[1].append({'hidden_layer_sizes': [(50,), (100,), (50, 50), (100, 100)], 'activation': ['tanh', 'relu'], \n",
        "                  'solver': ['sgd', 'adam'], 'alpha': [0.01], 'learning_rate': ['adaptive']})\n",
        "\n",
        "# Predicciones y los scores de cross-validación\n",
        "y_pred = []\n",
        "cv_scores = []\n",
        "mejores_params = []\n",
        "for cont in range(5):\n",
        "  clf = GridSearchCV(models[0][cont], \n",
        "    param_grid=models[1][cont], \n",
        "    cv=5, \n",
        "    scoring='f1_macro')\n",
        "\n",
        "  clf.fit(X_train, y_train)\n",
        "  y_pred.append(clf.predict(X_test))\n",
        "\n",
        "  cv_scores.append(cross_val_score(models[0][cont], X_train, y_train, cv=5, scoring='f1_macro'))\n",
        "  mejores_params.append(clf.best_params_)\n"
      ]
    },
    {
      "cell_type": "code",
      "execution_count": null,
      "metadata": {
        "id": "mneJa02p1CCl"
      },
      "outputs": [],
      "source": [
        "avg_scores = [np.mean(scores) for scores in cv_scores]\n",
        "\n",
        "index1 = np.argmax(avg_scores)\n",
        "best_Cross_model = models[2][index1]\n",
        "best_Cross_score = avg_scores[index1]\n",
        "best_p1 = mejores_params[index1]\n",
        "\n",
        "print(\"Mejor modelo:\", best_Cross_model)\n",
        "print(\"Score de cross-validación del mejor modelo:\", best_Cross_score)\n",
        "print(\"Mejores parametros:\", best_p1)\n",
        "print(\"Reporte de puntajes:\")\n",
        "print(classification_report(y_test, y_pred[index1], zero_division=1))"
      ]
    },
    {
      "cell_type": "markdown",
      "metadata": {
        "id": "EzBIsm-vVfFv"
      },
      "source": [
        "# Implementando los mejores modelos"
      ]
    },
    {
      "cell_type": "code",
      "execution_count": null,
      "metadata": {
        "id": "OiyvgtudsRlB"
      },
      "outputs": [],
      "source": [
        "if best_Cross_model == \"Máquina de Soporte Vectorial\":\n",
        "  modelo = SVC(**best_p1)\n",
        "elif best_Cross_model == \"Random Forest\":\n",
        "  modelo = RandomForestClassifier(**best_p1)\n",
        "elif best_Cross_model == \"Regresión Logística\":\n",
        "  modelo = LogisticRegression(**best_p1)\n",
        "elif best_Cross_model == \"KNN\":\n",
        "  modelo = KNeighborsClassifier(**best_p1)\n",
        "elif best_Cross_model == \"Redes Neuronales\":\n",
        "  modelo = MLPClassifier(**best_p1,max_iter=100)\n",
        "\n",
        "modelo.fit(X, y)\n",
        "y_prob = modelo.predict_proba(X_test)"
      ]
    },
    {
      "cell_type": "markdown",
      "source": [
        "# Encontrar la afinidad"
      ],
      "metadata": {
        "id": "NtiGBV4Btebj"
      }
    },
    {
      "cell_type": "code",
      "execution_count": null,
      "metadata": {
        "id": "_idU2Y3txewv"
      },
      "outputs": [],
      "source": [
        "umbral = 0.4\n",
        "\n",
        "top_labels = np.argsort(y_prob, axis=1)[:, ::-1] \n",
        "top_prob = np.sort(y_prob, axis=1)[:, ::-1]\n",
        "\n",
        "# Suma acumulativa por  casilla, el ultimo debe dar 1.\n",
        "sum = np.cumsum(top_prob, axis=1) \n",
        "\n",
        "filt_labels=[]\n",
        "filt_prob=[]\n",
        "for i in range(top_labels.shape[0]):\n",
        "  max_labels = 0\n",
        "  row = sum[i]\n",
        "  #Encuentra el ultimo valor en donde false cambia a true, y el +1 dice cual es ese primer valor de true\n",
        "  num_labels = np.argmax(row >= umbral) + 1 \n",
        "\n",
        "  if num_labels > max_labels:\n",
        "    max_labels = num_labels\n",
        "    \n",
        "  # Ubica tanto el la etiqueta, como las probabilidades de esa etiqueta\n",
        "  filt_labels.append(top_labels[i, :max_labels])\n",
        "  filt_prob.append(top_prob[:, :max_labels])\n",
        "\n",
        "top_labels = []\n",
        "for row in filt_labels:\n",
        "  row_labels = [objetivos[i] for i in row]\n",
        "  top_labels.append(row_labels)\n",
        "\n",
        "# Calcular las predicciones y el f1-score\n",
        "y_pred = [labels[0] if labels else None for labels in top_labels]\n",
        "f1 = f1_score(y_test, y_pred, average='micro')\n",
        "print(\"F1-score:\",f1)"
      ]
    },
    {
      "cell_type": "code",
      "execution_count": null,
      "metadata": {
        "id": "VfzizOcIOMy9"
      },
      "outputs": [],
      "source": [
        "Mis_Canciones = pd.read_csv('Todas_mis_canciones.csv')\n",
        "identificacion = Mis_Canciones[['track_id','track_name','artist']]\n",
        "# Selección de características y etiquetas\n",
        "Caracteristicas = Mis_Canciones[['danceability', 'energy', 'key', 'loudness', 'mode', 'speechiness', 'acousticness', 'instrumentalness', 'liveness', 'valence', 'tempo', 'duration_ms']]\n",
        "y_caract = modelo.predict_proba(Caracteristicas)\n",
        "\n",
        "\n",
        "umbral = 0.4 # La suma de las playlists debe ser menor a 40%\n",
        "\n",
        "top_labels = np.argsort(y_caract, axis=1)[:, ::-1]\n",
        "top_prob = np.sort(y_caract, axis=1)[:, ::-1]\n",
        "\n",
        "sum = np.cumsum(top_prob, axis=1)\n",
        "filt_labels=[]\n",
        "filt_prob=[]\n",
        "for i in range(top_labels.shape[0]):\n",
        "  max_labels = 0\n",
        "  row = sum[i]\n",
        "  num_labels = np.argmax(row >= umbral) + 1\n",
        "\n",
        "  if num_labels > max_labels:\n",
        "    max_labels = num_labels\n",
        "  \n",
        "  filt_labels.append(top_labels[i, :max_labels])\n",
        "  filt_prob.append(top_prob[i, :max_labels])\n",
        "\n",
        "top_labels = []\n",
        "for row in filt_labels:\n",
        "  row_labels = [objetivos[i] for i in row]\n",
        "  top_labels.append(row_labels)\n",
        "\n",
        "# Organiza las canciones por su afinidad hacia las playlists\n",
        "df_labels = pd.DataFrame(top_labels)\n",
        "df_labels.columns = ['Playlist1', 'Playlist2', 'Playlist3','Playlist4','Playlist5','Playlist6']\n",
        "df_prob = pd.DataFrame(filt_prob)\n",
        "df_prob.columns = ['probabilidad de Pl1', 'probabilidad de Pl2', 'probabilidad de Pl3','probabilidad de Pl4','probabilidad de Pl5','probabilidad de Pl6']\n",
        "df_listas = pd.concat([identificacion,df_labels, df_prob], axis=1)\n",
        "\n",
        "df_listas.to_csv('Canciones_organizadas.csv')\n",
        "print(\"Lista del resultado de las canciones:\")\n",
        "print(df_listas)\n",
        "\n"
      ]
    }
  ],
  "metadata": {
    "colab": {
      "collapsed_sections": [
        "E0rUqaCESYV4"
      ],
      "provenance": [],
      "authorship_tag": "ABX9TyPiWnDHlMAi1fKWD/4g6k8r",
      "include_colab_link": true
    },
    "kernelspec": {
      "display_name": "Python 3",
      "name": "python3"
    },
    "language_info": {
      "name": "python"
    }
  },
  "nbformat": 4,
  "nbformat_minor": 0
}